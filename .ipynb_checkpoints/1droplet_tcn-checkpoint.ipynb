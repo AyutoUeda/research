{
 "cells": [
  {
   "cell_type": "markdown",
   "id": "87a9e9a4-23e1-4fe0-8655-ed32bda96e06",
   "metadata": {},
   "source": [
    "# TCN for 1 droplet"
   ]
  },
  {
   "cell_type": "code",
   "execution_count": 32,
   "id": "03a49587-bdc3-4844-8273-8bed65d555ab",
   "metadata": {
    "tags": []
   },
   "outputs": [],
   "source": [
    "import torch\n",
    "import torch.nn.functional as F\n",
    "from torch.autograd import Variable\n",
    "import torch.nn as nn\n",
    "from torch.nn.utils import weight_norm\n",
    "import torch.optim as optim\n",
    "import numpy as np\n",
    "from collections import OrderedDict\n",
    "import os\n",
    "import random\n",
    "import pandas as pd\n",
    "\n",
    "import matplotlib.pyplot as plt\n",
    "%matplotlib inline\n",
    "\n",
    "from callback import tcn\n",
    "from callback import earlystopping"
   ]
  },
  {
   "cell_type": "code",
   "execution_count": 33,
   "id": "e7808323-4dd2-4061-a720-284b13e77b22",
   "metadata": {
    "tags": []
   },
   "outputs": [],
   "source": [
    "device = torch.device('cuda' if torch.cuda.is_available() else 'cpu')\n",
    "\n",
    "# 乱数固定用の処理\n",
    "# 同じ学習結果を得る\n",
    "seed = 42\n",
    "\n",
    "\n",
    "os.environ['PYTHONHASHSEED'] = str(seed)\n",
    "# Python random\n",
    "random.seed(seed)\n",
    "# Numpy\n",
    "np.random.seed(seed)\n",
    "# Pytorch\n",
    "torch.manual_seed(seed)\n",
    "torch.cuda.manual_seed(seed)\n",
    "# torch.cuda.manual_seed_all(seed)\n",
    "torch.use_deterministic_algorithms = True\n",
    "torch.backends.cudnn.deterministic = True\n",
    "torch.backends.cudnn.benchmark = False"
   ]
  },
  {
   "cell_type": "markdown",
   "id": "2be1c257-08fd-46e6-8e1a-a4633b925cd3",
   "metadata": {},
   "source": [
    "## Data"
   ]
  },
  {
   "cell_type": "code",
   "execution_count": 31,
   "id": "6b37ef0d-c5ab-445e-85da-c21b1796cec5",
   "metadata": {
    "tags": []
   },
   "outputs": [],
   "source": [
    "def mk_dataframe(path):\n",
    "    df = pd.read_table(path, sep=\" \", header=None)\n",
    "    df = df.drop(columns=0, axis=1)\n",
    "    df = df.drop(columns=3, axis=1)\n",
    "    return df\n",
    "\n",
    "df = mk_dataframe(\"230724/pos-1.dat\")\n",
    "df_ = df.values"
   ]
  },
  {
   "cell_type": "code",
   "execution_count": 8,
   "id": "c744cf26-9771-4915-96ea-30279d2f02d1",
   "metadata": {
    "tags": []
   },
   "outputs": [
    {
     "name": "stderr",
     "output_type": "stream",
     "text": [
      "/usr/lib/python3/dist-packages/scipy/__init__.py:146: UserWarning: A NumPy version >=1.17.3 and <1.25.0 is required for this version of SciPy (detected version 1.25.2\n",
      "  warnings.warn(f\"A NumPy version >={np_minversion} and <{np_maxversion}\"\n"
     ]
    }
   ],
   "source": [
    "# 正規化\n",
    "from sklearn.preprocessing import MinMaxScaler\n",
    "scaler = MinMaxScaler(feature_range = (0, 1))\n",
    "\n",
    "df_scaled = scaler.fit_transform(df_)"
   ]
  },
  {
   "cell_type": "code",
   "execution_count": 10,
   "id": "280edd8f-2324-4a2a-bf62-9a340219ca2a",
   "metadata": {
    "tags": []
   },
   "outputs": [
    {
     "data": {
      "text/plain": [
       "(36000, 2)"
      ]
     },
     "execution_count": 10,
     "metadata": {},
     "output_type": "execute_result"
    }
   ],
   "source": [
    "df.shape"
   ]
  },
  {
   "cell_type": "code",
   "execution_count": 11,
   "id": "9a9279dc-6596-4db1-bf5c-78015d09a454",
   "metadata": {
    "tags": []
   },
   "outputs": [],
   "source": [
    "testinp = torch.Tensor([[[1,2,3,4,5], \n",
    "                        [1,2,3,4,5]]])"
   ]
  },
  {
   "cell_type": "code",
   "execution_count": null,
   "id": "a4c9d13e-d0be-4326-82ab-be52eee8a1c9",
   "metadata": {
    "tags": []
   },
   "outputs": [],
   "source": [
    "conv = nn.Conv1d(2,2, kernel_size=2)"
   ]
  },
  {
   "cell_type": "code",
   "execution_count": 14,
   "id": "c58b8668-7209-486c-b5f8-d294c6fa3b3d",
   "metadata": {
    "tags": []
   },
   "outputs": [
    {
     "data": {
      "text/plain": [
       "tensor([[[1.9042, 3.0436, 4.1831, 5.3225]]], grad_fn=<ConvolutionBackward0>)"
      ]
     },
     "execution_count": 14,
     "metadata": {},
     "output_type": "execute_result"
    }
   ],
   "source": [
    "conv(testinp)"
   ]
  },
  {
   "cell_type": "code",
   "execution_count": 25,
   "id": "40b4c40e-9ec1-4473-8653-c93e3e609fb2",
   "metadata": {
    "tags": []
   },
   "outputs": [
    {
     "name": "stdout",
     "output_type": "stream",
     "text": [
      "(28599, 2, 200)\n",
      "(28599, 2)\n"
     ]
    }
   ],
   "source": [
    "train_size = int(len(df_scaled) * 0.8)\n",
    "test_size = len(df_scaled) - train_size\n",
    "\n",
    "# 何個のデータを用いて次の時刻を予測\n",
    "time_step = 200\n",
    "\n",
    "n_sample = train_size - time_step - 1\n",
    "\n",
    "position_x = []\n",
    "position_y = []\n",
    "t = []\n",
    "\n",
    "for i in range(len(df_scaled) - time_step):\n",
    "    position_x.append(df_scaled[i:i+time_step, 0])\n",
    "    position_y.append(df_scaled[i:i+time_step, 1])\n",
    "    \n",
    "    t.append(df_scaled[i+time_step])"
   ]
  },
  {
   "cell_type": "code",
   "execution_count": 24,
   "id": "131f7097-2744-48b0-8793-0de4e57a621d",
   "metadata": {
    "tags": []
   },
   "outputs": [
    {
     "data": {
      "text/plain": [
       "array([0.04462574, 0.04476816, 0.04524755, 0.04455813, 0.04533679])"
      ]
     },
     "execution_count": 24,
     "metadata": {},
     "output_type": "execute_result"
    }
   ],
   "source": [
    "df_scaled[0:5,0]"
   ]
  },
  {
   "cell_type": "code",
   "execution_count": null,
   "id": "ec3bbc2d-6fae-48ff-9cec-39e01c4dcac1",
   "metadata": {
    "tags": []
   },
   "outputs": [],
   "source": [
    "position_x.shape"
   ]
  },
  {
   "cell_type": "code",
   "execution_count": null,
   "id": "2c7fab08-d8a5-4dd3-98bc-dad744165616",
   "metadata": {},
   "outputs": [],
   "source": []
  }
 ],
 "metadata": {
  "kernelspec": {
   "display_name": "Python 3 (ipykernel)",
   "language": "python",
   "name": "python3"
  },
  "language_info": {
   "codemirror_mode": {
    "name": "ipython",
    "version": 3
   },
   "file_extension": ".py",
   "mimetype": "text/x-python",
   "name": "python",
   "nbconvert_exporter": "python",
   "pygments_lexer": "ipython3",
   "version": "3.10.12"
  }
 },
 "nbformat": 4,
 "nbformat_minor": 5
}
