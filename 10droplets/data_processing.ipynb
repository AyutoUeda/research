{
 "cells": [
  {
   "cell_type": "markdown",
   "id": "661b7495-7491-4883-9516-b7bc43c47d52",
   "metadata": {
    "tags": []
   },
   "source": [
    "# Data Processing(10 droplets)"
   ]
  },
  {
   "cell_type": "code",
   "execution_count": 1,
   "id": "cc4a8cdd-73bb-4b4d-8245-bc5f0ec18427",
   "metadata": {
    "tags": []
   },
   "outputs": [],
   "source": [
    "import numpy as np\n",
    "import matplotlib.pyplot as plt\n",
    "%matplotlib inline\n",
    "\n",
    "import pandas as pd\n",
    "import os\n",
    "import random"
   ]
  },
  {
   "cell_type": "code",
   "execution_count": 2,
   "id": "d1d30353-e828-46d5-80c4-d483a3b5376e",
   "metadata": {
    "tags": []
   },
   "outputs": [],
   "source": [
    "def mk_dataframe(path):\n",
    "    df = pd.read_table(path, sep=\" \", header=None)\n",
    "    df = df.drop(columns=0, axis=1)\n",
    "    df = df.drop(columns=df.shape[1], axis=1)\n",
    "    return df\n",
    "\n",
    "data_path = \"231030/pos-0.dat\"\n",
    "df = mk_dataframe(data_path)"
   ]
  },
  {
   "cell_type": "code",
   "execution_count": 3,
   "id": "c0477888-2e2d-4baf-a1b0-16a8ff8b62e8",
   "metadata": {
    "tags": []
   },
   "outputs": [],
   "source": [
    "df_ = df.values"
   ]
  },
  {
   "cell_type": "code",
   "execution_count": 4,
   "id": "aa2605cd-b343-4642-815b-6d869ef7d8a0",
   "metadata": {
    "tags": []
   },
   "outputs": [
    {
     "data": {
      "image/png": "[encoded data removed]",
      "text/plain": [
       "<Figure size 432x288 with 1 Axes>"
      ]
     },
     "metadata": {
      "needs_background": "light"
     },
     "output_type": "display_data"
    }
   ],
   "source": [
    "for i in range(10):\n",
    "    plt.plot(df_[:1000:10,i], df_[:1000:10,i+1])"
   ]
  },
  {
   "cell_type": "code",
   "execution_count": 5,
   "id": "3d7298cc-8ef7-4531-9145-2f3a6987f390",
   "metadata": {
    "tags": []
   },
   "outputs": [
    {
     "data": {
      "text/plain": [
       "array([[ -8.54958389, -29.33367785,  15.20083853, ...,  21.59633566,\n",
       "          6.31642525,  29.33174751],\n",
       "       [ -8.52344272, -29.32858204,  15.22502375, ...,  21.5851134 ,\n",
       "          6.44302857,  29.28771429],\n",
       "       [ -8.5432322 , -29.35768421,  15.25975335, ...,  21.66210039,\n",
       "          6.3730101 ,  29.33876094],\n",
       "       ...,\n",
       "       [-23.42511864,  15.01132203, -21.00466421, ...,  14.61472581,\n",
       "         23.56836364, -14.12526482],\n",
       "       [-23.47457377,  15.0215082 , -21.06185214, ...,  14.62533871,\n",
       "         23.57417188, -14.14773438],\n",
       "       [-23.38842276,  14.96892683, -20.98576604, ...,  14.647456  ,\n",
       "         23.5928583 , -14.16317409]])"
      ]
     },
     "execution_count": 5,
     "metadata": {},
     "output_type": "execute_result"
    }
   ],
   "source": [
    "df_"
   ]
  },
  {
   "cell_type": "code",
   "execution_count": 6,
   "id": "bd851eb3-bf96-486a-a156-fdb3c4f19f04",
   "metadata": {
    "tags": []
   },
   "outputs": [],
   "source": [
    "v_vector = np.diff(df_, axis=0)"
   ]
  },
  {
   "cell_type": "code",
   "execution_count": 13,
   "id": "9b18fb5c-73e0-4020-a6be-e60b54b6a972",
   "metadata": {
    "tags": []
   },
   "outputs": [
    {
     "data": {
      "text/plain": [
       "array([ 0.02614117,  0.00509581,  0.02418522, -0.05898265,  0.19539699,\n",
       "       -0.04454225,  0.07903338, -0.17013643,  0.01397557, -0.03154578,\n",
       "        0.04400208, -0.06610451, -0.01328571, -0.04837156,  0.24494588,\n",
       "       -0.06988217, -0.0081524 , -0.01122226,  0.12660332, -0.04403322])"
      ]
     },
     "execution_count": 13,
     "metadata": {},
     "output_type": "execute_result"
    }
   ],
   "source": [
    "v_vector[0]"
   ]
  },
  {
   "cell_type": "code",
   "execution_count": 79,
   "id": "cedb3080-1ae4-430d-a366-6711d6eb3147",
   "metadata": {
    "tags": []
   },
   "outputs": [],
   "source": [
    "\"\"\"\n",
    "今回は配列coordinatesの中の一番最初の油滴を基準に\n",
    "\n",
    "データ構造\n",
    "[[基準が次にどの方向へ進むか(label), 基準から見た角度1, 基準から見た距離1, 基準から見た角度2, 基準から見た距離2, .... , 基準から見た角度9, 基準から見た距離9], ...]\n",
    "\n",
    "基準がどこの方向へ進むか --> 360度を30度ごとにラベル付け（例：次15度の方向に移動ｰ>ラベル0 / 次65度の方向に移動ｰ>ラベル2 \n",
    "\"\"\"\n",
    "\n",
    "import math\n",
    "\n",
    "class DataCreate():\n",
    "    def __init__(self, input_data, vectors):\n",
    "        self.input_data = input_data[1:] # ベクトルのlenと合わせる\n",
    "        self.vectors = np.diff(input_data, axis=0)\n",
    "        \n",
    "    def __call__(self):\n",
    "        labels = []\n",
    "        data_d_and_angle = []\n",
    "\n",
    "        for i in range(len(self.input_data) - 1):\n",
    "\n",
    "            temp_list = []\n",
    "\n",
    "            temp_coordinate = self.input_data[i] # i秒目における各点の座標\n",
    "            x_target = temp_coordinate[0] # # i秒目におけるtargetのx座標\n",
    "            y_target = temp_coordinate[1] # # i秒目におけるtargetのy座標\n",
    "\n",
    "            vectors = self.vectors[i] # <-- 次の時刻との差\n",
    "\n",
    "            target_vector = np.arctan(vectors[1] / vectors[0]) * 180 / np.pi\n",
    "\n",
    "            # 360度に変換\n",
    "            if target_vector < 0:\n",
    "                target_vector = x - 360 * math.floor(target_vector/360)\n",
    "\n",
    "            label = target_vector // 30\n",
    "\n",
    "            labels.append(label)\n",
    "\n",
    "            # 各点とtargetを比較\n",
    "            for j in range(2,coordinates.shape[1], 2):\n",
    "                # 基準となる座標と比べる座標の差\n",
    "                x_diff = x_target - temp_coordinate[j]\n",
    "                y_diff = y_target - temp_coordinate[j+1]\n",
    "\n",
    "                tan = y_diff / x_diff\n",
    "\n",
    "                # 基準から見た角度\n",
    "                atan = np.arctan(tan) * 180 / np.pi\n",
    "                temp_list.append(atan)\n",
    "                # 基準との距離\n",
    "                d = math.sqrt(x_diff ** 2 + y_diff ** 2)\n",
    "                temp_list.append(d)\n",
    "\n",
    "            data_d_and_angle.append(temp_list)\n",
    "            \n",
    "        self.labels = np.array(labels)\n",
    "        self.data_d_and_angle = np.array(data_d_and_angle)\n",
    "        \n",
    "    def __len__(self):\n",
    "        return len(self.data_d_and_angle)"
   ]
  },
  {
   "cell_type": "code",
   "execution_count": 89,
   "id": "6d2b0bd2-2e8a-4b38-868e-65cdd40b3129",
   "metadata": {
    "tags": []
   },
   "outputs": [],
   "source": [
    "data = DataCreate(df_)"
   ]
  },
  {
   "cell_type": "code",
   "execution_count": 90,
   "id": "929c0009-fb50-48b7-b7a2-3919a01efad5",
   "metadata": {
    "tags": []
   },
   "outputs": [
    {
     "ename": "AttributeError",
     "evalue": "'DataCreate' object has no attribute 'data_d_and_angle'",
     "output_type": "error",
     "traceback": [
      "\u001b[0;31m---------------------------------------------------------------------------\u001b[0m",
      "\u001b[0;31mAttributeError\u001b[0m                            Traceback (most recent call last)",
      "\u001b[0;32m/tmp/ipykernel_5053/3264069240.py\u001b[0m in \u001b[0;36m<module>\u001b[0;34m\u001b[0m\n\u001b[0;32m----> 1\u001b[0;31m \u001b[0mlen\u001b[0m\u001b[0;34m(\u001b[0m\u001b[0mdata\u001b[0m\u001b[0;34m)\u001b[0m\u001b[0;34m\u001b[0m\u001b[0;34m\u001b[0m\u001b[0m\n\u001b[0m",
      "\u001b[0;32m/tmp/ipykernel_5053/2275726791.py\u001b[0m in \u001b[0;36m__len__\u001b[0;34m(self)\u001b[0m\n\u001b[1;32m     59\u001b[0m \u001b[0;34m\u001b[0m\u001b[0m\n\u001b[1;32m     60\u001b[0m     \u001b[0;32mdef\u001b[0m \u001b[0m__len__\u001b[0m\u001b[0;34m(\u001b[0m\u001b[0mself\u001b[0m\u001b[0;34m)\u001b[0m\u001b[0;34m:\u001b[0m\u001b[0;34m\u001b[0m\u001b[0;34m\u001b[0m\u001b[0m\n\u001b[0;32m---> 61\u001b[0;31m         \u001b[0;32mreturn\u001b[0m \u001b[0mlen\u001b[0m\u001b[0;34m(\u001b[0m\u001b[0mself\u001b[0m\u001b[0;34m.\u001b[0m\u001b[0mdata_d_and_angle\u001b[0m\u001b[0;34m)\u001b[0m\u001b[0;34m\u001b[0m\u001b[0;34m\u001b[0m\u001b[0m\n\u001b[0m",
      "\u001b[0;31mAttributeError\u001b[0m: 'DataCreate' object has no attribute 'data_d_and_angle'"
     ]
    }
   ],
   "source": [
    "data()"
   ]
  },
  {
   "cell_type": "code",
   "execution_count": 85,
   "id": "26240449-aa3d-49b2-86b2-635464e80acf",
   "metadata": {
    "tags": []
   },
   "outputs": [
    {
     "name": "stderr",
     "output_type": "stream",
     "text": [
      "/tmp/ipykernel_5053/2275726791.py:30: RuntimeWarning: invalid value encountered in scalar divide\n",
      "  target_vector = np.arctan(vectors[1] / vectors[0]) * 180 / np.pi\n",
      "/tmp/ipykernel_5053/2275726791.py:30: RuntimeWarning: divide by zero encountered in scalar divide\n",
      "  target_vector = np.arctan(vectors[1] / vectors[0]) * 180 / np.pi\n"
     ]
    }
   ],
   "source": [
    "data()"
   ]
  },
  {
   "cell_type": "code",
   "execution_count": 87,
   "id": "5c53c3c8-7182-413b-bc62-2b6c35109c71",
   "metadata": {
    "tags": []
   },
   "outputs": [
    {
     "data": {
      "text/plain": [
       "array([[ 11.87838635,  24.26812712,  46.31599408, ...,  52.18852698,\n",
       "         75.67672172,  60.49682189],\n",
       "       [ 11.97755984,  24.3327346 ,  46.68975386, ...,  52.31119001,\n",
       "         75.7415234 ,  60.56209176],\n",
       "       [ 12.20214681,  24.25458434,  47.05611114, ...,  52.23147223,\n",
       "         75.85890178,  60.59146527],\n",
       "       ...,\n",
       "       [-86.33120025,  36.80942156,  82.80451651, ...,  44.38735054,\n",
       "        -31.88340994,  55.24823942],\n",
       "       [-86.22837457,  36.7963452 ,  82.94725235, ...,  44.45029117,\n",
       "        -31.79946576,  55.29311052],\n",
       "       [-86.24749233,  36.86538585,  83.15357152, ...,  44.46638701,\n",
       "        -31.79805099,  55.35728659]])"
      ]
     },
     "execution_count": 87,
     "metadata": {},
     "output_type": "execute_result"
    }
   ],
   "source": [
    "data.data_d_and_angle"
   ]
  },
  {
   "cell_type": "code",
   "execution_count": 88,
   "id": "cf92e357-8ff0-44b3-a926-1a7b4fba248f",
   "metadata": {
    "tags": []
   },
   "outputs": [
    {
     "data": {
      "text/plain": [
       "35086"
      ]
     },
     "execution_count": 88,
     "metadata": {},
     "output_type": "execute_result"
    }
   ],
   "source": [
    "len(data)"
   ]
  }
 ],
 "metadata": {
  "kernelspec": {
   "display_name": "Python 3 (ipykernel)",
   "language": "python",
   "name": "python3"
  },
  "language_info": {
   "codemirror_mode": {
    "name": "ipython",
    "version": 3
   },
   "file_extension": ".py",
   "mimetype": "text/x-python",
   "name": "python",
   "nbconvert_exporter": "python",
   "pygments_lexer": "ipython3",
   "version": "3.10.12"
  }
 },
 "nbformat": 4,
 "nbformat_minor": 5
}
