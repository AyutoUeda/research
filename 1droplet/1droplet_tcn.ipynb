{
 "cells": [
  {
   "cell_type": "markdown",
   "id": "87a9e9a4-23e1-4fe0-8655-ed32bda96e06",
   "metadata": {},
   "source": [
    "# TCN for 1 droplet"
   ]
  },
  {
   "cell_type": "code",
   "execution_count": 1,
   "id": "03a49587-bdc3-4844-8273-8bed65d555ab",
   "metadata": {
    "tags": []
   },
   "outputs": [],
   "source": [
    "import torch\n",
    "import torch.nn.functional as F\n",
    "from torch.autograd import Variable\n",
    "import torch.nn as nn\n",
    "from torch.nn.utils import weight_norm\n",
    "import torch.optim as optim\n",
    "import numpy as np\n",
    "from collections import OrderedDict\n",
    "import os\n",
    "import random\n",
    "import pandas as pd\n",
    "\n",
    "import matplotlib.pyplot as plt\n",
    "%matplotlib inline\n",
    "\n",
    "from callback import tcn\n",
    "from callback import earlystopping"
   ]
  },
  {
   "cell_type": "code",
   "execution_count": 2,
   "id": "e7808323-4dd2-4061-a720-284b13e77b22",
   "metadata": {
    "tags": []
   },
   "outputs": [],
   "source": [
    "device = torch.device('cuda' if torch.cuda.is_available() else 'cpu')\n",
    "\n",
    "# 乱数固定用の処理\n",
    "# 同じ学習結果を得る\n",
    "seed = 42\n",
    "\n",
    "\n",
    "os.environ['PYTHONHASHSEED'] = str(seed)\n",
    "# Python random\n",
    "random.seed(seed)\n",
    "# Numpy\n",
    "np.random.seed(seed)\n",
    "# Pytorch\n",
    "torch.manual_seed(seed)\n",
    "torch.cuda.manual_seed(seed)\n",
    "# torch.cuda.manual_seed_all(seed)\n",
    "torch.use_deterministic_algorithms = True\n",
    "torch.backends.cudnn.deterministic = True\n",
    "torch.backends.cudnn.benchmark = False"
   ]
  },
  {
   "cell_type": "markdown",
   "id": "2be1c257-08fd-46e6-8e1a-a4633b925cd3",
   "metadata": {},
   "source": [
    "## Data"
   ]
  },
  {
   "cell_type": "code",
   "execution_count": 3,
   "id": "6b37ef0d-c5ab-445e-85da-c21b1796cec5",
   "metadata": {
    "tags": []
   },
   "outputs": [],
   "source": [
    "def mk_dataframe(path):\n",
    "    df = pd.read_table(path, sep=\" \", header=None)\n",
    "    df = df.drop(columns=0, axis=1)\n",
    "    df = df.drop(columns=3, axis=1)\n",
    "    return df\n",
    "\n",
    "df = mk_dataframe(\"230724/pos-1.dat\")\n",
    "df_ = df.values"
   ]
  },
  {
   "cell_type": "code",
   "execution_count": 13,
   "id": "c744cf26-9771-4915-96ea-30279d2f02d1",
   "metadata": {
    "tags": []
   },
   "outputs": [],
   "source": [
    "# 正規化\n",
    "from sklearn.preprocessing import MinMaxScaler\n",
    "scaler = MinMaxScaler(feature_range = (0, 1))\n",
    "\n",
    "df_scaled = scaler.fit_transform(df_)"
   ]
  },
  {
   "cell_type": "code",
   "execution_count": 14,
   "id": "280edd8f-2324-4a2a-bf62-9a340219ca2a",
   "metadata": {
    "tags": []
   },
   "outputs": [
    {
     "data": {
      "text/plain": [
       "(3600, 2)"
      ]
     },
     "execution_count": 14,
     "metadata": {},
     "output_type": "execute_result"
    }
   ],
   "source": [
    "# 1秒に1点\n",
    "df_scaled = df_scaled[:36000:10]\n",
    "df_scaled.shape"
   ]
  },
  {
   "cell_type": "code",
   "execution_count": 18,
   "id": "f0eed493-b7c7-4798-87d0-413b70fd360e",
   "metadata": {
    "tags": []
   },
   "outputs": [],
   "source": [
    "time_step = 200\n",
    "\n",
    "len_seq = len(df_scaled)\n",
    "data_size = len_seq - time_step + 1\n",
    "\n",
    "data = np.zeros((data_size, 2, time_step))\n",
    "t = np.zeros((data_size, 2))"
   ]
  },
  {
   "cell_type": "code",
   "execution_count": 19,
   "id": "146d0e6b-3b36-4a08-b0d1-d3b9fcf47df6",
   "metadata": {
    "tags": []
   },
   "outputs": [],
   "source": [
    "for i in range(len(df_scaled) - time_step):\n",
    "    data[i,0] = df_scaled[i:i+time_step, 0]\n",
    "    data[i,1] = df_scaled[i:i+time_step, 1]\n",
    "    t[i] = df_scaled[i+time_step]"
   ]
  },
  {
   "cell_type": "code",
   "execution_count": 20,
   "id": "5f32405c-c89e-4967-98ff-026d2cbc67af",
   "metadata": {
    "tags": []
   },
   "outputs": [
    {
     "data": {
      "text/plain": [
       "(3401, 2, 200)"
      ]
     },
     "execution_count": 20,
     "metadata": {},
     "output_type": "execute_result"
    }
   ],
   "source": [
    "data.shape"
   ]
  },
  {
   "cell_type": "code",
   "execution_count": 21,
   "id": "131f7097-2744-48b0-8793-0de4e57a621d",
   "metadata": {
    "tags": []
   },
   "outputs": [
    {
     "data": {
      "text/plain": [
       "(3401, 2)"
      ]
     },
     "execution_count": 21,
     "metadata": {},
     "output_type": "execute_result"
    }
   ],
   "source": [
    "t.shape"
   ]
  },
  {
   "cell_type": "code",
   "execution_count": 22,
   "id": "997c47ff-527d-4f5a-a0d8-aa90c069bb8a",
   "metadata": {
    "tags": []
   },
   "outputs": [],
   "source": [
    "# 使用するテンソル\n",
    "x = torch.Tensor(np.array(data).reshape(-1, 2, time_step)).to(device)\n",
    "t = torch.Tensor(np.array(t).reshape(-1, 2)).to(device)"
   ]
  },
  {
   "cell_type": "code",
   "execution_count": 23,
   "id": "d87916a6-e6d2-4872-a1ed-ece33385e315",
   "metadata": {
    "tags": []
   },
   "outputs": [
    {
     "data": {
      "text/plain": [
       "torch.Size([3401, 2, 200])"
      ]
     },
     "execution_count": 23,
     "metadata": {},
     "output_type": "execute_result"
    }
   ],
   "source": [
    "x.shape"
   ]
  },
  {
   "cell_type": "code",
   "execution_count": 61,
   "id": "9278b554-6fab-41e8-ba9f-68bbfbf4b7b0",
   "metadata": {
    "tags": []
   },
   "outputs": [
    {
     "data": {
      "text/plain": [
       "2720"
      ]
     },
     "execution_count": 61,
     "metadata": {},
     "output_type": "execute_result"
    }
   ],
   "source": [
    "X_train.size(0)"
   ]
  },
  {
   "cell_type": "markdown",
   "id": "d7868589-8ef8-4d2f-a458-101054c2c234",
   "metadata": {},
   "source": [
    "## Train and Evaluate"
   ]
  },
  {
   "cell_type": "code",
   "execution_count": 62,
   "id": "d9e4b9cb-0c75-4848-9e58-566a323a60dd",
   "metadata": {
    "tags": []
   },
   "outputs": [],
   "source": [
    "def train(model, optimizer, lr, epoch, clip=-1):\n",
    "    model.train()\n",
    "    batch_idx = 1 # バッチが何回カウントされたか\n",
    "    total_loss = 0\n",
    "    for i in range(0, X_train.size(0), batch_size):\n",
    "        if i + batch_size > X_train.size(0):\n",
    "            x, y = X_train[i:], Y_train[i:]\n",
    "        else:\n",
    "            x, y = X_train[i:(i+batch_size)], Y_train[i:(i+batch_size)]\n",
    "        optimizer.zero_grad()\n",
    "        output = model(x, debug=False)\n",
    "        loss = F.mse_loss(output, y)\n",
    "        loss.backward()\n",
    "        if clip > 0:\n",
    "            torch.nn.utils.clip_grad_norm_(model.parameters(), clip)\n",
    "        optimizer.step()\n",
    "        batch_idx += 1\n",
    "        total_loss += loss.item()\n",
    "\n",
    "        if batch_idx % 100 == 0:\n",
    "            cur_loss = total_loss / 100\n",
    "            processed = min(i+batch_size, X_train.size(0))\n",
    "            print('Train Epoch: {:2d} [{:6d}/{:6d} ({:.0f}%)]\\tLearning rate: {:.4f}\\tLoss: {:.6f}'.format(\n",
    "                epoch, processed, X_train.size(0), 100.*processed/X_train.size(0), lr, cur_loss))\n",
    "            total_loss = 0\n",
    "            \n",
    "    return total_loss / batch_idx\n",
    "            \n",
    "def evaluate():\n",
    "    model.eval()\n",
    "    with torch.no_grad():\n",
    "        output = model(X_test)\n",
    "        test_loss = F.mse_loss(output, Y_test)\n",
    "        print('\\nTest set: Average loss: {:.6f}\\n'.format(test_loss.item()))\n",
    "        return test_loss.item()"
   ]
  },
  {
   "cell_type": "code",
   "execution_count": 63,
   "id": "582e8e02-f28c-4d00-9adc-7bb2f1ed9c80",
   "metadata": {
    "tags": []
   },
   "outputs": [
    {
     "name": "stdout",
     "output_type": "stream",
     "text": [
      "train size:2720, test size: 681\n"
     ]
    }
   ],
   "source": [
    "n_seq = x.size(0)\n",
    "\n",
    "train_size = int(n_seq * 0.8)\n",
    "test_size = n_seq - train_size\n",
    "print(\"train size:{}, test size: {}\".format(train_size, test_size))\n",
    "X_train, Y_train = x[:train_size], t[:train_size]\n",
    "X_test, Y_test = x[train_size:], t[train_size:]"
   ]
  },
  {
   "cell_type": "code",
   "execution_count": 67,
   "id": "bf46870b-f21b-4bde-8c29-f98de118fc41",
   "metadata": {
    "tags": []
   },
   "outputs": [
    {
     "name": "stdout",
     "output_type": "stream",
     "text": [
      "\n",
      "Test set: Average loss: 0.061033\n",
      "\n",
      "\n",
      "Test set: Average loss: 0.442903\n",
      "\n",
      "\n",
      "Test set: Average loss: 0.062087\n",
      "\n",
      "\n",
      "Test set: Average loss: 0.136922\n",
      "\n"
     ]
    }
   ],
   "source": [
    "batch_size = 100\n",
    "epochs = 4\n",
    "lr = 1e-3\n",
    "\n",
    "model = tcn.myTCN(input_size=2, output_size=2, num_channels=[20]*7, kernel_size=7, dropout=0.0)\n",
    "optimizer = getattr(optim, 'Adam')(model.parameters(), lr=lr)\n",
    "\n",
    "loss = {\n",
    "    \"train_loss\":[], \n",
    "    \"val_loss\":[]\n",
    "}\n",
    "es = earlystopping.EarlyStopping(patience=10, verbose=1)\n",
    "\n",
    "for epoch in range(1, epochs + 1):\n",
    "    train_loss = train(model, optimizer, lr=lr, epoch=epoch, clip=-1)\n",
    "    tloss = evaluate()\n",
    "    \n",
    "    loss[\"train_loss\"].append(train_loss)\n",
    "    loss[\"val_loss\"].append(tloss)\n",
    "    if es(tloss):\n",
    "        break"
   ]
  },
  {
   "cell_type": "code",
   "execution_count": 68,
   "id": "4ff8e5bd-4315-486e-8d56-bb1db4bfb2f3",
   "metadata": {
    "tags": []
   },
   "outputs": [
    {
     "data": {
      "text/plain": [
       "[<matplotlib.lines.Line2D at 0x7f045da79ae0>]"
      ]
     },
     "execution_count": 68,
     "metadata": {},
     "output_type": "execute_result"
    },
    {
     "data": {
      "image/png": "[encoded data removed]",
      "text/plain": [
       "<Figure size 432x288 with 1 Axes>"
      ]
     },
     "metadata": {
      "needs_background": "light"
     },
     "output_type": "display_data"
    }
   ],
   "source": [
    "plt.plot(loss[\"train_loss\"])\n",
    "plt.plot(loss[\"val_loss\"])"
   ]
  },
  {
   "cell_type": "code",
   "execution_count": 59,
   "id": "d296b9b0-f61e-4145-aa15-0a92b29e7b2c",
   "metadata": {
    "tags": []
   },
   "outputs": [],
   "source": [
    "gen_time = 1000\n",
    "\n",
    "gen = [[None, None] for i in range(time_step)]\n",
    "z = X_test[0].reshape(1,2,-1)\n",
    "\n",
    "for i in range(gen_time):\n",
    "    model.eval()\n",
    "    pred = model(z).data.cpu().numpy()\n",
    "    z = np.concatenate([z.numpy().reshape(2,-1), pred.reshape(2,-1)], 1)\n",
    "    z = z[:,1:]\n",
    "    # print(z.shape)\n",
    "    z = torch.Tensor(z.reshape(1,2,-1))\n",
    "    gen.append([pred[0,0], pred[0,1]])"
   ]
  },
  {
   "cell_type": "code",
   "execution_count": 60,
   "id": "6b6783f5-e14d-4a02-980a-56a86afdebad",
   "metadata": {
    "tags": []
   },
   "outputs": [
    {
     "data": {
      "text/plain": [
       "[<matplotlib.lines.Line2D at 0x7f045df7b3d0>]"
      ]
     },
     "execution_count": 60,
     "metadata": {},
     "output_type": "execute_result"
    },
    {
     "data": {
      "image/png": "[encoded data removed]",
      "text/plain": [
       "<Figure size 432x288 with 1 Axes>"
      ]
     },
     "metadata": {
      "needs_background": "light"
     },
     "output_type": "display_data"
    }
   ],
   "source": [
    "gen = np.array(gen)\n",
    "plt.plot(gen[:,0], gen[:,1])\n",
    "\n",
    "\n",
    "plt.scatter(gen[time_step,0], gen[time_step, 1], marker=\"x\")\n",
    "plt.plot(df_scaled[:,0], df_scaled[:,1])"
   ]
  },
  {
   "cell_type": "code",
   "execution_count": 31,
   "id": "aaa1ab24-c6a0-4dee-a58f-29adbae6c121",
   "metadata": {
    "collapsed": true,
    "jupyter": {
     "outputs_hidden": true
    },
    "tags": []
   },
   "outputs": [
    {
     "data": {
      "text/plain": [
       "=================================================================\n",
       "Layer (type:depth-idx)                   Param #\n",
       "=================================================================\n",
       "myTCN                                    --\n",
       "├─Sequential: 1-1                        --\n",
       "│    └─Conv1d: 2-1                       320\n",
       "│    └─Chomp1d: 2-2                      --\n",
       "│    └─ReLU: 2-3                         --\n",
       "│    └─Dropout: 2-4                      --\n",
       "│    └─Conv1d: 2-5                       2,840\n",
       "│    └─Chomp1d: 2-6                      --\n",
       "│    └─ReLU: 2-7                         --\n",
       "│    └─Dropout: 2-8                      --\n",
       "│    └─Conv1d: 2-9                       60\n",
       "│    └─ReLU: 2-10                        --\n",
       "│    └─Conv1d: 2-11                      2,840\n",
       "│    └─Chomp1d: 2-12                     --\n",
       "│    └─ReLU: 2-13                        --\n",
       "│    └─Dropout: 2-14                     --\n",
       "│    └─Conv1d: 2-15                      2,840\n",
       "│    └─Chomp1d: 2-16                     --\n",
       "│    └─ReLU: 2-17                        --\n",
       "│    └─Dropout: 2-18                     --\n",
       "│    └─ReLU: 2-19                        --\n",
       "│    └─Conv1d: 2-20                      2,840\n",
       "│    └─Chomp1d: 2-21                     --\n",
       "│    └─ReLU: 2-22                        --\n",
       "│    └─Dropout: 2-23                     --\n",
       "│    └─Conv1d: 2-24                      2,840\n",
       "│    └─Chomp1d: 2-25                     --\n",
       "│    └─ReLU: 2-26                        --\n",
       "│    └─Dropout: 2-27                     --\n",
       "│    └─ReLU: 2-28                        --\n",
       "│    └─Conv1d: 2-29                      2,840\n",
       "│    └─Chomp1d: 2-30                     --\n",
       "│    └─ReLU: 2-31                        --\n",
       "│    └─Dropout: 2-32                     --\n",
       "│    └─Conv1d: 2-33                      2,840\n",
       "│    └─Chomp1d: 2-34                     --\n",
       "│    └─ReLU: 2-35                        --\n",
       "│    └─Dropout: 2-36                     --\n",
       "│    └─ReLU: 2-37                        --\n",
       "│    └─Conv1d: 2-38                      2,840\n",
       "│    └─Chomp1d: 2-39                     --\n",
       "│    └─ReLU: 2-40                        --\n",
       "│    └─Dropout: 2-41                     --\n",
       "│    └─Conv1d: 2-42                      2,840\n",
       "│    └─Chomp1d: 2-43                     --\n",
       "│    └─ReLU: 2-44                        --\n",
       "│    └─Dropout: 2-45                     --\n",
       "│    └─ReLU: 2-46                        --\n",
       "│    └─Conv1d: 2-47                      2,840\n",
       "│    └─Chomp1d: 2-48                     --\n",
       "│    └─ReLU: 2-49                        --\n",
       "│    └─Dropout: 2-50                     --\n",
       "│    └─Conv1d: 2-51                      2,840\n",
       "│    └─Chomp1d: 2-52                     --\n",
       "│    └─ReLU: 2-53                        --\n",
       "│    └─Dropout: 2-54                     --\n",
       "│    └─ReLU: 2-55                        --\n",
       "│    └─Conv1d: 2-56                      2,840\n",
       "│    └─Chomp1d: 2-57                     --\n",
       "│    └─ReLU: 2-58                        --\n",
       "│    └─Dropout: 2-59                     --\n",
       "│    └─Conv1d: 2-60                      2,840\n",
       "│    └─Chomp1d: 2-61                     --\n",
       "│    └─ReLU: 2-62                        --\n",
       "│    └─Dropout: 2-63                     --\n",
       "│    └─ReLU: 2-64                        --\n",
       "│    └─Conv1d: 2-65                      2,840\n",
       "│    └─Chomp1d: 2-66                     --\n",
       "│    └─ReLU: 2-67                        --\n",
       "│    └─Dropout: 2-68                     --\n",
       "│    └─Conv1d: 2-69                      2,840\n",
       "│    └─Chomp1d: 2-70                     --\n",
       "│    └─ReLU: 2-71                        --\n",
       "│    └─Dropout: 2-72                     --\n",
       "│    └─ReLU: 2-73                        --\n",
       "│    └─Conv1d: 2-74                      2,840\n",
       "│    └─Chomp1d: 2-75                     --\n",
       "│    └─ReLU: 2-76                        --\n",
       "│    └─Dropout: 2-77                     --\n",
       "│    └─Conv1d: 2-78                      2,840\n",
       "│    └─Chomp1d: 2-79                     --\n",
       "│    └─ReLU: 2-80                        --\n",
       "│    └─Dropout: 2-81                     --\n",
       "│    └─ReLU: 2-82                        --\n",
       "│    └─Conv1d: 2-83                      2,840\n",
       "│    └─Chomp1d: 2-84                     --\n",
       "│    └─ReLU: 2-85                        --\n",
       "│    └─Dropout: 2-86                     --\n",
       "│    └─Conv1d: 2-87                      2,840\n",
       "│    └─Chomp1d: 2-88                     --\n",
       "│    └─ReLU: 2-89                        --\n",
       "│    └─Dropout: 2-90                     --\n",
       "│    └─ReLU: 2-91                        --\n",
       "├─Linear: 1-2                            42\n",
       "=================================================================\n",
       "Total params: 54,382\n",
       "Trainable params: 54,382\n",
       "Non-trainable params: 0\n",
       "================================================================="
      ]
     },
     "execution_count": 31,
     "metadata": {},
     "output_type": "execute_result"
    }
   ],
   "source": [
    "from torchinfo import summary\n",
    "summary(model)"
   ]
  }
 ],
 "metadata": {
  "kernelspec": {
   "display_name": "Python 3 (ipykernel)",
   "language": "python",
   "name": "python3"
  },
  "language_info": {
   "codemirror_mode": {
    "name": "ipython",
    "version": 3
   },
   "file_extension": ".py",
   "mimetype": "text/x-python",
   "name": "python",
   "nbconvert_exporter": "python",
   "pygments_lexer": "ipython3",
   "version": "3.10.12"
  }
 },
 "nbformat": 4,
 "nbformat_minor": 5
}
