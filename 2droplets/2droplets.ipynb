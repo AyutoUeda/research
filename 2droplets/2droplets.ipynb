{
 "cells": [
  {
   "cell_type": "markdown",
   "id": "d40804ec-5fc2-49df-9d72-5dd4f427e1e1",
   "metadata": {},
   "source": [
    "# Prediction of Two Droplets\n",
    "- Condition\n",
    "    - paraffin: 20\n",
    "    - ES volume: 10\n",
    "    - n_droplets: 2\n",
    "    - Dye conc.: 0.005\n",
    "    - SDS conc.: 18\n",
    "    - Solution volume: 30\n",
    "    - Temp.: 25"
   ]
  },
  {
   "cell_type": "code",
   "execution_count": 1,
   "id": "b774d3da-61f5-4e25-ba13-c0c744d5ad24",
   "metadata": {
    "tags": []
   },
   "outputs": [],
   "source": [
    "import torch\n",
    "from torch import nn, optim\n",
    "from torch.utils.data import DataLoader, TensorDataset, Dataset\n",
    "from torchvision import transforms\n",
    "from torchinfo import summary # ニューラルネットワークの中身を見る\n",
    "\n",
    "import numpy as np\n",
    "import matplotlib.pyplot as plt\n",
    "%matplotlib inline\n",
    "\n",
    "import pandas as pd\n",
    "import os\n",
    "import random\n",
    "\n",
    "# 乱数固定用の処理\n",
    "# 同じ学習結果を得る\n",
    "seed = 10\n",
    "\n",
    "# シードを固定するための関数\n",
    "def torch_fix_seed(seed):\n",
    "    os.environ['PYTHONHASHSEED'] = str(seed)\n",
    "    # Python random\n",
    "    random.seed(seed)\n",
    "    # Numpy\n",
    "    np.random.seed(seed)\n",
    "    # Pytorch\n",
    "    torch.manual_seed(seed)\n",
    "    torch.cuda.manual_seed(seed)\n",
    "    torch.cuda.manual_seed_all(seed)\n",
    "    torch.use_deterministic_algorithms = True\n",
    "    torch.backends.cudnn.deterministic = True\n",
    "    torch.backends.cudnn.benchmark = False\n",
    "\n",
    "torch_fix_seed(seed)"
   ]
  },
  {
   "cell_type": "code",
   "execution_count": 8,
   "id": "b8714764-a77f-440e-9b6e-82cac2c7caf6",
   "metadata": {
    "tags": []
   },
   "outputs": [],
   "source": [
    "def mk_dataframe(path):\n",
    "    df = pd.read_table(path, sep=\" \", header=None)\n",
    "    df = df.drop(columns=0, axis=1)\n",
    "    df = df.drop(columns=df.shape[1], axis=1)\n",
    "    return df\n",
    "\n",
    "df = mk_dataframe(\"230927/pos-1.dat\")"
   ]
  },
  {
   "cell_type": "code",
   "execution_count": 9,
   "id": "8a4f3bfc-772e-4d16-bec4-b39ff29add2e",
   "metadata": {
    "tags": []
   },
   "outputs": [
    {
     "data": {
      "text/html": [
       "<div>\n",
       "<style scoped>\n",
       "    .dataframe tbody tr th:only-of-type {\n",
       "        vertical-align: middle;\n",
       "    }\n",
       "\n",
       "    .dataframe tbody tr th {\n",
       "        vertical-align: top;\n",
       "    }\n",
       "\n",
       "    .dataframe thead th {\n",
       "        text-align: right;\n",
       "    }\n",
       "</style>\n",
       "<table border=\"1\" class=\"dataframe\">\n",
       "  <thead>\n",
       "    <tr style=\"text-align: right;\">\n",
       "      <th></th>\n",
       "      <th>1</th>\n",
       "      <th>2</th>\n",
       "      <th>3</th>\n",
       "      <th>4</th>\n",
       "    </tr>\n",
       "  </thead>\n",
       "  <tbody>\n",
       "    <tr>\n",
       "      <th>0</th>\n",
       "      <td>6.213982</td>\n",
       "      <td>-19.842319</td>\n",
       "      <td>-3.713528</td>\n",
       "      <td>17.819865</td>\n",
       "    </tr>\n",
       "    <tr>\n",
       "      <th>1</th>\n",
       "      <td>6.223218</td>\n",
       "      <td>-19.851964</td>\n",
       "      <td>-3.728667</td>\n",
       "      <td>17.823444</td>\n",
       "    </tr>\n",
       "    <tr>\n",
       "      <th>2</th>\n",
       "      <td>6.215443</td>\n",
       "      <td>-19.810296</td>\n",
       "      <td>-3.712737</td>\n",
       "      <td>17.835844</td>\n",
       "    </tr>\n",
       "    <tr>\n",
       "      <th>3</th>\n",
       "      <td>6.224143</td>\n",
       "      <td>-19.834000</td>\n",
       "      <td>-3.743289</td>\n",
       "      <td>17.844333</td>\n",
       "    </tr>\n",
       "    <tr>\n",
       "      <th>4</th>\n",
       "      <td>6.236036</td>\n",
       "      <td>-19.846224</td>\n",
       "      <td>-3.746192</td>\n",
       "      <td>17.836633</td>\n",
       "    </tr>\n",
       "    <tr>\n",
       "      <th>...</th>\n",
       "      <td>...</td>\n",
       "      <td>...</td>\n",
       "      <td>...</td>\n",
       "      <td>...</td>\n",
       "    </tr>\n",
       "    <tr>\n",
       "      <th>35995</th>\n",
       "      <td>-12.792174</td>\n",
       "      <td>-24.929617</td>\n",
       "      <td>-28.724368</td>\n",
       "      <td>-2.128973</td>\n",
       "    </tr>\n",
       "    <tr>\n",
       "      <th>35996</th>\n",
       "      <td>-12.786463</td>\n",
       "      <td>-24.935039</td>\n",
       "      <td>-28.705184</td>\n",
       "      <td>-2.096358</td>\n",
       "    </tr>\n",
       "    <tr>\n",
       "      <th>35997</th>\n",
       "      <td>-12.776513</td>\n",
       "      <td>-24.960743</td>\n",
       "      <td>-28.727444</td>\n",
       "      <td>-2.115000</td>\n",
       "    </tr>\n",
       "    <tr>\n",
       "      <th>35998</th>\n",
       "      <td>-12.781526</td>\n",
       "      <td>-24.946281</td>\n",
       "      <td>-28.722109</td>\n",
       "      <td>-2.100696</td>\n",
       "    </tr>\n",
       "    <tr>\n",
       "      <th>35999</th>\n",
       "      <td>-12.786518</td>\n",
       "      <td>-24.915875</td>\n",
       "      <td>-28.732169</td>\n",
       "      <td>-2.142603</td>\n",
       "    </tr>\n",
       "  </tbody>\n",
       "</table>\n",
       "<p>36000 rows × 4 columns</p>\n",
       "</div>"
      ],
      "text/plain": [
       "               1          2          3          4\n",
       "0       6.213982 -19.842319  -3.713528  17.819865\n",
       "1       6.223218 -19.851964  -3.728667  17.823444\n",
       "2       6.215443 -19.810296  -3.712737  17.835844\n",
       "3       6.224143 -19.834000  -3.743289  17.844333\n",
       "4       6.236036 -19.846224  -3.746192  17.836633\n",
       "...          ...        ...        ...        ...\n",
       "35995 -12.792174 -24.929617 -28.724368  -2.128973\n",
       "35996 -12.786463 -24.935039 -28.705184  -2.096358\n",
       "35997 -12.776513 -24.960743 -28.727444  -2.115000\n",
       "35998 -12.781526 -24.946281 -28.722109  -2.100696\n",
       "35999 -12.786518 -24.915875 -28.732169  -2.142603\n",
       "\n",
       "[36000 rows x 4 columns]"
      ]
     },
     "execution_count": 9,
     "metadata": {},
     "output_type": "execute_result"
    }
   ],
   "source": [
    "df"
   ]
  },
  {
   "cell_type": "code",
   "execution_count": 10,
   "id": "4ee89743-218f-4f17-ae42-ac7e3fa72ee9",
   "metadata": {
    "tags": []
   },
   "outputs": [],
   "source": [
    "df_ = df.values"
   ]
  },
  {
   "cell_type": "code",
   "execution_count": 14,
   "id": "a3920960-9afd-4f8d-a55b-dcfd5516b229",
   "metadata": {
    "tags": []
   },
   "outputs": [
    {
     "data": {
      "text/plain": [
       "<matplotlib.legend.Legend at 0x7f1214756cb0>"
      ]
     },
     "execution_count": 14,
     "metadata": {},
     "output_type": "execute_result"
    },
    {
     "data": {
      "image/png": "[encoded data removed]",
      "text/plain": [
       "<Figure size 432x288 with 1 Axes>"
      ]
     },
     "metadata": {
      "needs_background": "light"
     },
     "output_type": "display_data"
    }
   ],
   "source": [
    "plt.plot(df_[:36000:10, 0], df_[:36000:10, 1], label=\"droplet 1\")\n",
    "plt.plot(df_[:36000:10, 2], df_[:36000:10, 3], label=\"droplet 2\")\n",
    "plt.legend()"
   ]
  },
  {
   "cell_type": "code",
   "execution_count": 39,
   "id": "3e86e57f-61d3-4dde-9331-d16d6c0b19da",
   "metadata": {
    "tags": []
   },
   "outputs": [],
   "source": [
    "# 正規化\n",
    "from sklearn.preprocessing import MinMaxScaler\n",
    "scaler = MinMaxScaler(feature_range = (0, 1))\n",
    "\n",
    "# 1度arrayを1列にしてから正規化\n",
    "df_scaled = scaler.fit_transform(df_.reshape(-1, 1))"
   ]
  },
  {
   "cell_type": "code",
   "execution_count": 42,
   "id": "80bb51d9-f11f-4d7a-9412-e31b53952c8b",
   "metadata": {
    "tags": []
   },
   "outputs": [],
   "source": [
    "df_scaled = df_scaled.reshape(-1, 4)"
   ]
  },
  {
   "cell_type": "code",
   "execution_count": 44,
   "id": "3ea9bf6e-5bca-4d08-a259-0da889f751e6",
   "metadata": {
    "tags": []
   },
   "outputs": [
    {
     "data": {
      "text/plain": [
       "[<matplotlib.lines.Line2D at 0x7f11d0a402b0>]"
      ]
     },
     "execution_count": 44,
     "metadata": {},
     "output_type": "execute_result"
    },
    {
     "data": {
      "image/png": "[encoded data removed]",
      "text/plain": [
       "<Figure size 432x288 with 1 Axes>"
      ]
     },
     "metadata": {
      "needs_background": "light"
     },
     "output_type": "display_data"
    }
   ],
   "source": [
    "plt.plot(df_scaled[:30000:10, 0], df_scaled[:30000:10, 1])\n",
    "plt.plot(df_scaled[:30000:10, 2], df_scaled[:30000:10, 3])"
   ]
  },
  {
   "cell_type": "markdown",
   "id": "705ee52b-8687-44de-be73-1a1c4026a3fc",
   "metadata": {},
   "source": [
    "## データ分割"
   ]
  },
  {
   "cell_type": "code",
   "execution_count": 52,
   "id": "1b6f8f2c-017b-4dd0-8aa7-16f17eaa02ff",
   "metadata": {
    "tags": []
   },
   "outputs": [
    {
     "name": "stdout",
     "output_type": "stream",
     "text": [
      "train size: 700, test size:300\n"
     ]
    }
   ],
   "source": [
    "data = df_scaled[:10000:10]\n",
    "\n",
    "train_size = int(len(data) * 0.7)\n",
    "test_size = len(data) - train_size\n",
    "\n",
    "print(\"train size: {}, test size:{}\".format(train_size, test_size))"
   ]
  },
  {
   "cell_type": "code",
   "execution_count": 53,
   "id": "9bbfd9c0-94a0-41bc-ae6a-3dd0929b46c3",
   "metadata": {
    "tags": []
   },
   "outputs": [
    {
     "data": {
      "text/plain": [
       "[<matplotlib.lines.Line2D at 0x7f11d04f65f0>]"
      ]
     },
     "execution_count": 53,
     "metadata": {},
     "output_type": "execute_result"
    },
    {
     "data": {
      "image/png": "[encoded data removed]",
      "text/plain": [
       "<Figure size 432x288 with 1 Axes>"
      ]
     },
     "metadata": {
      "needs_background": "light"
     },
     "output_type": "display_data"
    }
   ],
   "source": [
    "plt.plot(data[:, 0], data[:, 1])\n",
    "plt.plot(data[:, 2], data[:, 3])"
   ]
  },
  {
   "cell_type": "code",
   "execution_count": 54,
   "id": "df870ec8-cbd7-45e3-a988-ca0664206b22",
   "metadata": {
    "tags": []
   },
   "outputs": [
    {
     "name": "stdout",
     "output_type": "stream",
     "text": [
      "(649, 50, 4)\n",
      "(649, 4)\n"
     ]
    }
   ],
   "source": [
    "# 何個のデータを用いて次の時刻を予測\n",
    "time_step = 50\n",
    "n_sample = train_size - time_step - 1\n",
    "\n",
    "#シーケンシャルデータを格納する箱を用意(入力)\n",
    "input_data = np.zeros((n_sample, time_step, 4))\n",
    "#シーケンシャルデータを格納する箱を用意(正解)\n",
    "correct_input_data = np.zeros((n_sample, 4))\n",
    "\n",
    "print(input_data.shape)\n",
    "print(correct_input_data.shape)"
   ]
  },
  {
   "cell_type": "code",
   "execution_count": 55,
   "id": "7683a100-f1e4-4d4e-8ac9-6885eed9d850",
   "metadata": {
    "tags": []
   },
   "outputs": [],
   "source": [
    "for i in range(n_sample):\n",
    "    input_data[i] = data[i:i+time_step, :].reshape(-1, 4)\n",
    "    correct_input_data[i] = data[i+time_step:i+time_step+1, :]"
   ]
  },
  {
   "cell_type": "code",
   "execution_count": 56,
   "id": "c214fd2a-ea77-4378-b947-e6a6ff99c27e",
   "metadata": {
    "tags": []
   },
   "outputs": [
    {
     "name": "stdout",
     "output_type": "stream",
     "text": [
      "n_train:519, n_val:130\n"
     ]
    }
   ],
   "source": [
    "# -----データローダ-----\n",
    "input_data = torch.tensor(input_data, dtype=torch.float) #Tensor化(入力)\n",
    "correct_data = torch.tensor(correct_input_data, dtype=torch.float) #Tensor化(正解)\n",
    "\n",
    "dataset = torch.utils.data.TensorDataset(input_data, correct_data) #データセット作成\n",
    "\n",
    "n_sample_train = len(dataset)\n",
    "n_train = int(n_sample * 0.8)\n",
    "n_val = n_sample_train - n_train\n",
    "\n",
    "print(\"n_train:{}, n_val:{}\".format(n_train, n_val))\n",
    "\n",
    "train_dataset, val_dataset = torch.utils.data.random_split(dataset,\n",
    "                                                           [n_train, n_val], \n",
    "                                                           generator=torch.Generator().manual_seed(seed))\n",
    "\n",
    "# ------データローダの再現性担保-----\n",
    "def seed_worker(worker_id):\n",
    "    worker_seed = torch.initial_seed()\n",
    "\n",
    "    # Seed other libraries with torch's seed\n",
    "    random.seed(worker_seed)\n",
    "\n",
    "    # Numpy seed must be between 0 and 2**32 - 1\n",
    "    if worker_seed >= 2 ** 32:\n",
    "        worker_seed = worker_seed % 2 ** 32\n",
    "    np.random.seed(worker_seed)\n",
    "\n",
    "g = torch.Generator()\n",
    "g.manual_seed(seed)\n",
    "# -------------------------------\n",
    "\n",
    "\n",
    "# datasetからバッチごとに取り出す\n",
    "train_loader = DataLoader(\n",
    "                            train_dataset,\n",
    "                            batch_size=4,\n",
    "                            shuffle=True,\n",
    "                            num_workers=2,\n",
    "                            worker_init_fn=seed_worker,\n",
    "                            generator=g,\n",
    "                        )\n",
    "\n",
    "val_loader = DataLoader(\n",
    "                            val_dataset,\n",
    "                            batch_size=4,\n",
    "                            shuffle=True,\n",
    "                            num_workers=2,\n",
    "                            worker_init_fn=seed_worker,\n",
    "                            generator=g,\n",
    "                        )"
   ]
  },
  {
   "cell_type": "markdown",
   "id": "8f5905cf-ab5c-42bf-a640-adb41b6fdb40",
   "metadata": {
    "tags": []
   },
   "source": [
    "## Early Stopping"
   ]
  },
  {
   "cell_type": "code",
   "execution_count": 57,
   "id": "bb941c03-2867-4e8e-89bc-4a9b94cd29bc",
   "metadata": {
    "tags": []
   },
   "outputs": [],
   "source": [
    "class EarlyStopping:\n",
    "    \"\"\"earlystoppingクラス\"\"\"\n",
    "\n",
    "    def __init__(self, patience=0, verbose=0):\n",
    "        self._step = 0\n",
    "        self._loss = float(\"inf\")\n",
    "        self.patience = patience\n",
    "        self.verbose = verbose\n",
    "        \n",
    "    def __call__(self, loss):\n",
    "        if self._loss < loss:\n",
    "            self._step += 1\n",
    "            if self._step > self.patience:\n",
    "                if self.verbose:\n",
    "                    print(\"early stopping\")\n",
    "                return True\n",
    "\n",
    "        else:\n",
    "            self._step = 0\n",
    "            self._loss = loss\n",
    "\n",
    "        return False"
   ]
  },
  {
   "cell_type": "markdown",
   "id": "ded16b24-4a8d-4514-a6e0-c591d9cad56f",
   "metadata": {},
   "source": [
    "# Model"
   ]
  },
  {
   "cell_type": "code",
   "execution_count": 58,
   "id": "d079e889-09cf-462f-8241-37bda1856147",
   "metadata": {
    "tags": []
   },
   "outputs": [],
   "source": [
    "class GRU(nn.Module):\n",
    "    def __init__(self, input_dim, output_dim, hidden_dim, n_layers):\n",
    "        super(GRU, self).__init__()\n",
    "        self.input_dim = input_dim\n",
    "        self.output_dim = output_dim\n",
    "        self.hidden_dim = hidden_dim\n",
    "        \n",
    "        self.gru = nn.GRU(input_dim, hidden_dim, n_layers, batch_first=True)\n",
    "        self.fc = nn.Linear(hidden_dim, output_dim)\n",
    "        \n",
    "    def forward(self, x):\n",
    "        y_gru, h = self.gru(x, None)\n",
    "        y = self.fc(y_gru[:, -1, :])\n",
    "        \n",
    "        return y"
   ]
  },
  {
   "cell_type": "markdown",
   "id": "37ab2e1a-7289-4925-8aa0-9bfa8b6a1c62",
   "metadata": {},
   "source": [
    "## 学習"
   ]
  },
  {
   "cell_type": "code",
   "execution_count": 59,
   "id": "7234a22a-bc26-4331-8778-7faae253915c",
   "metadata": {
    "tags": []
   },
   "outputs": [],
   "source": [
    "def train_func(net, epoch=100):\n",
    "    loss_func = nn.MSELoss(reduction=\"mean\")\n",
    "\n",
    "    optimizer = optim.Adam(net.parameters(), lr=0.001)\n",
    "\n",
    "    device = torch.device(\"cuda:0\" if torch.cuda. is_available() else \"cpu\")  #デバイス(GPU or CPU)設定 \n",
    "    \n",
    "    hist = {\"train_loss\":[], \n",
    "            \"val_loss\":[]}\n",
    "\n",
    "    epochs = 100 #エポック数\n",
    "\n",
    "    net.to(device)\n",
    "\n",
    "    es = EarlyStopping(patience=5, verbose=1)\n",
    "\n",
    "    for i in range(epochs):\n",
    "        net.train()\n",
    "        running_loss = 0.0\n",
    "        running_val_loss = 0.0\n",
    "\n",
    "        for j, (x, t) in enumerate(train_loader):\n",
    "            x = x.to(device)\n",
    "            optimizer.zero_grad()\n",
    "\n",
    "            y = net(x)\n",
    "            y = y.to(device)\n",
    "\n",
    "            loss = loss_func(y, t)\n",
    "            loss.backward()\n",
    "\n",
    "            optimizer.step()\n",
    "            running_loss += loss.item()\n",
    "\n",
    "        running_loss /= j + 1\n",
    "        hist[\"train_loss\"].append(running_loss)\n",
    "        \n",
    "        for j, (x, t) in enumerate(val_loader):\n",
    "            x, t = x.to(device), t.to(device)\n",
    "            \n",
    "            net.eval()\n",
    "            \n",
    "            pred = net(x)\n",
    "            loss = loss_func(pred, t)\n",
    "            running_val_loss += loss.item()\n",
    "            \n",
    "        running_val_loss /= j + 1\n",
    "        hist[\"val_loss\"].append(running_val_loss)\n",
    "\n",
    "\n",
    "        if i%5 == 0 or i==epochs-1:\n",
    "            print(\"Epoch:{}, Train_Loss:{:3f}, Val_Loss:{:3f}\".format(i, running_loss, running_val_loss))\n",
    "\n",
    "        if es(running_val_loss):\n",
    "            print(\"Epoch:{}, Train_Loss:{:3f}, Val_Loss:{:3f}\".format(i, running_loss, running_val_loss))\n",
    "            break\n",
    "    \n",
    "    #lossの推移を確認\n",
    "    plt.plot(range(len(hist[\"train_loss\"])), hist[\"train_loss\"], label='train loss')\n",
    "    plt.plot(range(len(hist[\"val_loss\"])), hist[\"val_loss\"], label='val loss')\n",
    "    \n",
    "    plt.legend()\n",
    "    plt.title(\"Change of Loss\")\n",
    "    plt.xlabel(\"epochs\")\n",
    "    plt.ylabel(\"loss\")\n",
    "    plt.show()"
   ]
  },
  {
   "cell_type": "markdown",
   "id": "c7aeead9-ef22-43a8-a983-f2ea125b292f",
   "metadata": {},
   "source": [
    "## 予測用関数"
   ]
  },
  {
   "cell_type": "code",
   "execution_count": 78,
   "id": "a97935bb-d7f1-48e5-a675-91c9fc81e5e1",
   "metadata": {
    "tags": []
   },
   "outputs": [],
   "source": [
    "def future_prediction(net, data):\n",
    "    X = data\n",
    "    net.eval()\n",
    "\n",
    "    gen = [[None, None, None, None] for i in range(train_size)] # 予測値を時系列で保持するためのリスト\n",
    "\n",
    "    z = X[train_size:train_size+time_step].reshape(-1, time_step, 4) # 予測用に未知の部分の最初time_step個\n",
    "\n",
    "    for i in range(test_size):\n",
    "        z_ = torch.Tensor(z[-1:, :])\n",
    "\n",
    "        preds = net(z_).data.cpu().numpy()\n",
    "        z = np.concatenate([z, preds.reshape(-1, 1, 4)], 1)\n",
    "        z = z[:,1:,:]\n",
    "\n",
    "        gen.append([preds[0,0], preds[0,1], preds[0,2], preds[0,3]])\n",
    "        \n",
    "    print(net)\n",
    "    \n",
    "    fig = plt.figure(figsize=(7,7))\n",
    "    plt.plot(X[:,0], X[:,1], label=\"Correct for droplet1\", alpha=0.6)\n",
    "    plt.plot(X[:,2], X[:,3], label=\"Correct for droplet2\", alpha=0.6)\n",
    "    plt.plot(X[:train_size,0], X[:train_size,1], label=\"train data\", color=\"green\")\n",
    "    plt.plot(X[:train_size,2], X[:train_size,3], color=\"green\")\n",
    "\n",
    "    gen = np.array(gen)\n",
    "    plt.plot(gen[:,0], gen[:,1],label='Predicted 1')\n",
    "    plt.plot(gen[:,2], gen[:,3],label='Predicted 2')\n",
    "    plt.legend()\n",
    "\n",
    "    plt.scatter(X[train_size+time_step,0], X[train_size+time_step,1], marker=\"x\")\n",
    "    plt.scatter(X[train_size+time_step,2], X[train_size+time_step,3], marker=\"x\")\n",
    "    plt.title(\"hidden_dim={}\".format(net.hidden_dim))\n",
    "    \n",
    "    # plt.savefig(\"output/spiral_hidden{}.png\".format(net.hidden_dim))\n",
    "    plt.show()"
   ]
  },
  {
   "cell_type": "markdown",
   "id": "a45e7b32-d990-47e8-8f23-3528c8bf00eb",
   "metadata": {
    "tags": []
   },
   "source": [
    "## Define Model"
   ]
  },
  {
   "cell_type": "code",
   "execution_count": 63,
   "id": "524e780b-57a2-46b0-99de-c7ba1457a02f",
   "metadata": {
    "tags": []
   },
   "outputs": [
    {
     "data": {
      "text/plain": [
       "==========================================================================================\n",
       "Layer (type:depth-idx)                   Output Shape              Param #\n",
       "==========================================================================================\n",
       "GRU                                      [4, 4]                    --\n",
       "├─GRU: 1-1                               [4, 50, 64]               13,440\n",
       "├─Linear: 1-2                            [4, 4]                    260\n",
       "==========================================================================================\n",
       "Total params: 13,700\n",
       "Trainable params: 13,700\n",
       "Non-trainable params: 0\n",
       "Total mult-adds (M): 2.69\n",
       "==========================================================================================\n",
       "Input size (MB): 0.00\n",
       "Forward/backward pass size (MB): 0.10\n",
       "Params size (MB): 0.05\n",
       "Estimated Total Size (MB): 0.16\n",
       "=========================================================================================="
      ]
     },
     "execution_count": 63,
     "metadata": {},
     "output_type": "execute_result"
    }
   ],
   "source": [
    "input_dim = 4\n",
    "output_dim = 4\n",
    "hidden_dim = 64\n",
    "n_layers = 1\n",
    "\n",
    "net = GRU(input_dim, output_dim, hidden_dim, n_layers)\n",
    "\n",
    "batch_size = 4\n",
    "summary(net, (batch_size, time_step, 4))"
   ]
  },
  {
   "cell_type": "code",
   "execution_count": 64,
   "id": "698c4882-5d5c-45a0-adf4-2d91d4a726bf",
   "metadata": {
    "tags": []
   },
   "outputs": [],
   "source": [
    "train_func(net)"
   ]
  },
  {
   "cell_type": "code",
   "execution_count": 79,
   "id": "44349d7a-f2d8-4712-b5c7-82ed72c554ef",
   "metadata": {
    "tags": []
   },
   "outputs": [
    {
     "name": "stdout",
     "output_type": "stream",
     "text": [
      "GRU(\n",
      "  (gru): GRU(4, 64, batch_first=True)\n",
      "  (fc): Linear(in_features=64, out_features=4, bias=True)\n",
      ")\n"
     ]
    },
    {
     "data": {
      "image/png": "[encoded data removed]",
      "text/plain": [
       "<Figure size 504x504 with 1 Axes>"
      ]
     },
     "metadata": {
      "needs_background": "light"
     },
     "output_type": "display_data"
    }
   ],
   "source": [
    "future_prediction(net, data)"
   ]
  },
  {
   "cell_type": "code",
   "execution_count": 81,
   "id": "6e051987-0fab-4092-9d3e-ed17a14a315e",
   "metadata": {
    "tags": []
   },
   "outputs": [
    {
     "name": "stdout",
     "output_type": "stream",
     "text": [
      "Epoch:0, Train_Loss:0.020124, Val_Loss:0.001448\n",
      "Epoch:5, Train_Loss:0.000399, Val_Loss:0.000498\n",
      "Epoch:10, Train_Loss:0.000089, Val_Loss:0.000089\n",
      "Epoch:15, Train_Loss:0.000080, Val_Loss:0.000033\n",
      "Epoch:20, Train_Loss:0.000063, Val_Loss:0.000044\n",
      "early stopping\n",
      "Epoch:21, Train_Loss:0.000044, Val_Loss:0.000065\n"
     ]
    },
    {
     "data": {
      "image/png": "[encoded data removed]",
      "text/plain": [
       "<Figure size 432x288 with 1 Axes>"
      ]
     },
     "metadata": {
      "needs_background": "light"
     },
     "output_type": "display_data"
    },
    {
     "name": "stdout",
     "output_type": "stream",
     "text": [
      "GRU(\n",
      "  (gru): GRU(4, 128, batch_first=True)\n",
      "  (fc): Linear(in_features=128, out_features=4, bias=True)\n",
      ")\n"
     ]
    },
    {
     "data": {
      "image/png": "[encoded data removed]",
      "text/plain": [
       "<Figure size 504x504 with 1 Axes>"
      ]
     },
     "metadata": {
      "needs_background": "light"
     },
     "output_type": "display_data"
    }
   ],
   "source": [
    "net2 = GRU(4, 4, 128, n_layers)\n",
    "train_func(net2)\n",
    "future_prediction(net2, data)"
   ]
  },
  {
   "cell_type": "code",
   "execution_count": 73,
   "id": "9c37d9f4-38fc-44c0-ad1f-2f8c1cdb6d4a",
   "metadata": {
    "tags": []
   },
   "outputs": [
    {
     "data": {
      "text/plain": [
       "4"
      ]
     },
     "execution_count": 73,
     "metadata": {},
     "output_type": "execute_result"
    }
   ],
   "source": [
    "data.shape[-1]"
   ]
  },
  {
   "cell_type": "code",
   "execution_count": null,
   "id": "cf0463e3-5325-40e6-befa-fbd8810dc448",
   "metadata": {},
   "outputs": [],
   "source": []
  }
 ],
 "metadata": {
  "kernelspec": {
   "display_name": "Python 3 (ipykernel)",
   "language": "python",
   "name": "python3"
  },
  "language_info": {
   "codemirror_mode": {
    "name": "ipython",
    "version": 3
   },
   "file_extension": ".py",
   "mimetype": "text/x-python",
   "name": "python",
   "nbconvert_exporter": "python",
   "pygments_lexer": "ipython3",
   "version": "3.10.12"
  }
 },
 "nbformat": 4,
 "nbformat_minor": 5
}
