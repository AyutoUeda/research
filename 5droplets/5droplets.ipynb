{
 "cells": [
  {
   "cell_type": "markdown",
   "id": "1030101c-c5ea-4fe0-aef0-79320914060e",
   "metadata": {},
   "source": [
    "# Prediction of Five Droplets¶\n",
    "- Condition\n",
    "    - paraffin: 20\n",
    "    - ES volume: 10\n",
    "    - n_droplets: 5\n",
    "    - Dye conc.: 0.005\n",
    "    - SDS conc.: 18\n",
    "    - Solution volume: 30\n",
    "    - Temp.: 25"
   ]
  },
  {
   "cell_type": "code",
   "execution_count": 46,
   "id": "29ec1ac7-2abe-4689-8e0c-39258446e45f",
   "metadata": {
    "tags": []
   },
   "outputs": [],
   "source": [
    "import torch\n",
    "from torch import nn, optim\n",
    "from torch.utils.data import DataLoader, TensorDataset, Dataset\n",
    "from torchvision import transforms\n",
    "from torchinfo import summary # ニューラルネットワークの中身を見る\n",
    "\n",
    "import numpy as np\n",
    "import matplotlib.pyplot as plt\n",
    "%matplotlib inline\n",
    "\n",
    "import pandas as pd\n",
    "import os\n",
    "import random\n",
    "\n",
    "from callback import earlystopping\n",
    "\n",
    "# 乱数固定用の処理\n",
    "# 同じ学習結果を得る\n",
    "seed = 10\n",
    "\n",
    "# シードを固定するための関数\n",
    "def torch_fix_seed(seed):\n",
    "    os.environ['PYTHONHASHSEED'] = str(seed)\n",
    "    # Python random\n",
    "    random.seed(seed)\n",
    "    # Numpy\n",
    "    np.random.seed(seed)\n",
    "    # Pytorch\n",
    "    torch.manual_seed(seed)\n",
    "    torch.cuda.manual_seed(seed)\n",
    "    torch.cuda.manual_seed_all(seed)\n",
    "    torch.use_deterministic_algorithms = True\n",
    "    torch.backends.cudnn.deterministic = True\n",
    "    torch.backends.cudnn.benchmark = False\n",
    "\n",
    "torch_fix_seed(seed)"
   ]
  },
  {
   "cell_type": "code",
   "execution_count": 2,
   "id": "78340706-89ea-4585-a3d3-72d14281b39a",
   "metadata": {
    "tags": []
   },
   "outputs": [],
   "source": [
    "def mk_dataframe(path):\n",
    "    df = pd.read_table(path, sep=\" \", header=None)\n",
    "    df = df.drop(columns=0, axis=1)\n",
    "    df = df.drop(columns=df.shape[1], axis=1)\n",
    "    return df\n",
    "\n",
    "df = mk_dataframe(\"230928/pos-1.dat\")"
   ]
  },
  {
   "cell_type": "code",
   "execution_count": 3,
   "id": "77f1d851-7062-4529-a04f-b94495924fb7",
   "metadata": {
    "tags": []
   },
   "outputs": [
    {
     "data": {
      "text/html": [
       "<div>\n",
       "<style scoped>\n",
       "    .dataframe tbody tr th:only-of-type {\n",
       "        vertical-align: middle;\n",
       "    }\n",
       "\n",
       "    .dataframe tbody tr th {\n",
       "        vertical-align: top;\n",
       "    }\n",
       "\n",
       "    .dataframe thead th {\n",
       "        text-align: right;\n",
       "    }\n",
       "</style>\n",
       "<table border=\"1\" class=\"dataframe\">\n",
       "  <thead>\n",
       "    <tr style=\"text-align: right;\">\n",
       "      <th></th>\n",
       "      <th>1</th>\n",
       "      <th>2</th>\n",
       "      <th>3</th>\n",
       "      <th>4</th>\n",
       "      <th>5</th>\n",
       "      <th>6</th>\n",
       "      <th>7</th>\n",
       "      <th>8</th>\n",
       "      <th>9</th>\n",
       "      <th>10</th>\n",
       "    </tr>\n",
       "  </thead>\n",
       "  <tbody>\n",
       "    <tr>\n",
       "      <th>0</th>\n",
       "      <td>-19.487352</td>\n",
       "      <td>-20.983921</td>\n",
       "      <td>12.094107</td>\n",
       "      <td>-20.311554</td>\n",
       "      <td>-21.267623</td>\n",
       "      <td>6.581969</td>\n",
       "      <td>27.602660</td>\n",
       "      <td>6.426266</td>\n",
       "      <td>-5.860874</td>\n",
       "      <td>20.263934</td>\n",
       "    </tr>\n",
       "    <tr>\n",
       "      <th>1</th>\n",
       "      <td>-19.477692</td>\n",
       "      <td>-20.990609</td>\n",
       "      <td>12.076036</td>\n",
       "      <td>-20.370901</td>\n",
       "      <td>-21.282763</td>\n",
       "      <td>6.608103</td>\n",
       "      <td>27.633166</td>\n",
       "      <td>6.468523</td>\n",
       "      <td>-5.852389</td>\n",
       "      <td>20.298919</td>\n",
       "    </tr>\n",
       "    <tr>\n",
       "      <th>2</th>\n",
       "      <td>-19.468193</td>\n",
       "      <td>-20.969928</td>\n",
       "      <td>12.033649</td>\n",
       "      <td>-20.432632</td>\n",
       "      <td>-21.242062</td>\n",
       "      <td>6.536392</td>\n",
       "      <td>27.676673</td>\n",
       "      <td>6.496846</td>\n",
       "      <td>-5.846391</td>\n",
       "      <td>20.332609</td>\n",
       "    </tr>\n",
       "    <tr>\n",
       "      <th>3</th>\n",
       "      <td>-19.485339</td>\n",
       "      <td>-20.993084</td>\n",
       "      <td>12.012297</td>\n",
       "      <td>-20.469834</td>\n",
       "      <td>-21.239228</td>\n",
       "      <td>6.492203</td>\n",
       "      <td>27.683456</td>\n",
       "      <td>6.516117</td>\n",
       "      <td>-5.805820</td>\n",
       "      <td>20.389551</td>\n",
       "    </tr>\n",
       "    <tr>\n",
       "      <th>4</th>\n",
       "      <td>-19.456484</td>\n",
       "      <td>-20.967306</td>\n",
       "      <td>11.964088</td>\n",
       "      <td>-20.512705</td>\n",
       "      <td>-21.231467</td>\n",
       "      <td>6.465272</td>\n",
       "      <td>27.695220</td>\n",
       "      <td>6.550860</td>\n",
       "      <td>-5.828000</td>\n",
       "      <td>20.450907</td>\n",
       "    </tr>\n",
       "    <tr>\n",
       "      <th>...</th>\n",
       "      <td>...</td>\n",
       "      <td>...</td>\n",
       "      <td>...</td>\n",
       "      <td>...</td>\n",
       "      <td>...</td>\n",
       "      <td>...</td>\n",
       "      <td>...</td>\n",
       "      <td>...</td>\n",
       "      <td>...</td>\n",
       "      <td>...</td>\n",
       "    </tr>\n",
       "    <tr>\n",
       "      <th>35995</th>\n",
       "      <td>-26.686792</td>\n",
       "      <td>-10.712931</td>\n",
       "      <td>11.664019</td>\n",
       "      <td>-26.336038</td>\n",
       "      <td>-17.089904</td>\n",
       "      <td>14.638866</td>\n",
       "      <td>29.112041</td>\n",
       "      <td>4.376062</td>\n",
       "      <td>10.706441</td>\n",
       "      <td>27.096429</td>\n",
       "    </tr>\n",
       "    <tr>\n",
       "      <th>35996</th>\n",
       "      <td>-26.682902</td>\n",
       "      <td>-10.701361</td>\n",
       "      <td>11.686294</td>\n",
       "      <td>-26.327128</td>\n",
       "      <td>-17.080562</td>\n",
       "      <td>14.621319</td>\n",
       "      <td>29.125685</td>\n",
       "      <td>4.363127</td>\n",
       "      <td>10.689143</td>\n",
       "      <td>27.113319</td>\n",
       "    </tr>\n",
       "    <tr>\n",
       "      <th>35997</th>\n",
       "      <td>-26.701461</td>\n",
       "      <td>-10.684797</td>\n",
       "      <td>11.651566</td>\n",
       "      <td>-26.280094</td>\n",
       "      <td>-17.088898</td>\n",
       "      <td>14.630824</td>\n",
       "      <td>29.129395</td>\n",
       "      <td>4.344246</td>\n",
       "      <td>10.711775</td>\n",
       "      <td>27.113191</td>\n",
       "    </tr>\n",
       "    <tr>\n",
       "      <th>35998</th>\n",
       "      <td>-26.685257</td>\n",
       "      <td>-10.696049</td>\n",
       "      <td>11.661247</td>\n",
       "      <td>-26.283274</td>\n",
       "      <td>-17.079077</td>\n",
       "      <td>14.639209</td>\n",
       "      <td>29.121010</td>\n",
       "      <td>4.383818</td>\n",
       "      <td>10.723651</td>\n",
       "      <td>27.117907</td>\n",
       "    </tr>\n",
       "    <tr>\n",
       "      <th>35999</th>\n",
       "      <td>-26.686105</td>\n",
       "      <td>-10.702300</td>\n",
       "      <td>11.652502</td>\n",
       "      <td>-26.278902</td>\n",
       "      <td>-17.073449</td>\n",
       "      <td>14.634530</td>\n",
       "      <td>29.113143</td>\n",
       "      <td>4.371959</td>\n",
       "      <td>10.706600</td>\n",
       "      <td>27.100200</td>\n",
       "    </tr>\n",
       "  </tbody>\n",
       "</table>\n",
       "<p>36000 rows × 10 columns</p>\n",
       "</div>"
      ],
      "text/plain": [
       "              1          2          3          4          5          6   \\\n",
       "0     -19.487352 -20.983921  12.094107 -20.311554 -21.267623   6.581969   \n",
       "1     -19.477692 -20.990609  12.076036 -20.370901 -21.282763   6.608103   \n",
       "2     -19.468193 -20.969928  12.033649 -20.432632 -21.242062   6.536392   \n",
       "3     -19.485339 -20.993084  12.012297 -20.469834 -21.239228   6.492203   \n",
       "4     -19.456484 -20.967306  11.964088 -20.512705 -21.231467   6.465272   \n",
       "...          ...        ...        ...        ...        ...        ...   \n",
       "35995 -26.686792 -10.712931  11.664019 -26.336038 -17.089904  14.638866   \n",
       "35996 -26.682902 -10.701361  11.686294 -26.327128 -17.080562  14.621319   \n",
       "35997 -26.701461 -10.684797  11.651566 -26.280094 -17.088898  14.630824   \n",
       "35998 -26.685257 -10.696049  11.661247 -26.283274 -17.079077  14.639209   \n",
       "35999 -26.686105 -10.702300  11.652502 -26.278902 -17.073449  14.634530   \n",
       "\n",
       "              7         8          9          10  \n",
       "0      27.602660  6.426266  -5.860874  20.263934  \n",
       "1      27.633166  6.468523  -5.852389  20.298919  \n",
       "2      27.676673  6.496846  -5.846391  20.332609  \n",
       "3      27.683456  6.516117  -5.805820  20.389551  \n",
       "4      27.695220  6.550860  -5.828000  20.450907  \n",
       "...          ...       ...        ...        ...  \n",
       "35995  29.112041  4.376062  10.706441  27.096429  \n",
       "35996  29.125685  4.363127  10.689143  27.113319  \n",
       "35997  29.129395  4.344246  10.711775  27.113191  \n",
       "35998  29.121010  4.383818  10.723651  27.117907  \n",
       "35999  29.113143  4.371959  10.706600  27.100200  \n",
       "\n",
       "[36000 rows x 10 columns]"
      ]
     },
     "execution_count": 3,
     "metadata": {},
     "output_type": "execute_result"
    }
   ],
   "source": [
    "df"
   ]
  },
  {
   "cell_type": "code",
   "execution_count": 4,
   "id": "8cc12742-2cd9-4243-845e-2934caa2a9db",
   "metadata": {
    "tags": []
   },
   "outputs": [],
   "source": [
    "df_ = df.values"
   ]
  },
  {
   "cell_type": "code",
   "execution_count": 10,
   "id": "0f1054b1-bcfa-453f-ac06-3d749b433a81",
   "metadata": {
    "tags": []
   },
   "outputs": [
    {
     "data": {
      "text/plain": [
       "<matplotlib.legend.Legend at 0x7f24cab17e80>"
      ]
     },
     "execution_count": 10,
     "metadata": {},
     "output_type": "execute_result"
    },
    {
     "data": {
      "image/png": "[encoded data removed]",
      "text/plain": [
       "<Figure size 432x288 with 1 Axes>"
      ]
     },
     "metadata": {
      "needs_background": "light"
     },
     "output_type": "display_data"
    }
   ],
   "source": [
    "for i in range(int(df_.shape[-1] / 2)):\n",
    "    x = i*2\n",
    "    plt.plot(df_[:10000:10, x], df_[:10000:10, x+1], label=\"droplet {}\".format(i+1))\n",
    "    \n",
    "plt.legend(loc=\"upper right\")"
   ]
  },
  {
   "cell_type": "code",
   "execution_count": 18,
   "id": "2a3ccd14-c222-4735-aecd-58ad419a6c9b",
   "metadata": {
    "tags": []
   },
   "outputs": [],
   "source": [
    "# 正規化\n",
    "from sklearn.preprocessing import MinMaxScaler\n",
    "scaler = MinMaxScaler(feature_range = (0, 1))\n",
    "\n",
    "# 1度arrayを1列にしてから正規化\n",
    "df_scaled = scaler.fit_transform(df_.reshape(-1, 1))"
   ]
  },
  {
   "cell_type": "code",
   "execution_count": 19,
   "id": "cb073e00-3ee0-48c4-92c6-aee409768103",
   "metadata": {
    "tags": []
   },
   "outputs": [],
   "source": [
    "df_scaled = df_scaled.reshape(-1, df.shape[-1])"
   ]
  },
  {
   "cell_type": "code",
   "execution_count": 20,
   "id": "0899a040-9be1-4ec7-9a28-f5670e740b5d",
   "metadata": {
    "tags": []
   },
   "outputs": [
    {
     "data": {
      "text/plain": [
       "<matplotlib.legend.Legend at 0x7f24887eb730>"
      ]
     },
     "execution_count": 20,
     "metadata": {},
     "output_type": "execute_result"
    },
    {
     "data": {
      "image/png": "[encoded data removed]",
      "text/plain": [
       "<Figure size 432x288 with 1 Axes>"
      ]
     },
     "metadata": {
      "needs_background": "light"
     },
     "output_type": "display_data"
    }
   ],
   "source": [
    "for i in range(int(df_.shape[-1] / 2)):\n",
    "    x = i*2\n",
    "    plt.plot(df_scaled[:10000:10, x], df_scaled[:10000:10, x+1], label=\"droplet {}\".format(i+1))\n",
    "    \n",
    "plt.legend(loc=\"upper right\")"
   ]
  },
  {
   "cell_type": "markdown",
   "id": "02cc6423-d963-45f7-8d8f-f45ebbc418f9",
   "metadata": {
    "tags": []
   },
   "source": [
    "## データ分割\n",
    "1秒ごとのデータを1000個"
   ]
  },
  {
   "cell_type": "code",
   "execution_count": 21,
   "id": "b4ecfaf7-8c9f-47a5-b556-3dbe019c11dc",
   "metadata": {
    "tags": []
   },
   "outputs": [
    {
     "name": "stdout",
     "output_type": "stream",
     "text": [
      "train size: 700, test size:300\n"
     ]
    }
   ],
   "source": [
    "data = df_scaled[:10000:10]\n",
    "\n",
    "train_size = int(len(data) * 0.7)\n",
    "test_size = len(data) - train_size\n",
    "\n",
    "print(\"train size: {}, test size:{}\".format(train_size, test_size))"
   ]
  },
  {
   "cell_type": "code",
   "execution_count": 26,
   "id": "3ca6859a-1943-48af-9258-c51c37f216d8",
   "metadata": {
    "tags": []
   },
   "outputs": [
    {
     "data": {
      "text/plain": [
       "<matplotlib.legend.Legend at 0x7f2487c98790>"
      ]
     },
     "execution_count": 26,
     "metadata": {},
     "output_type": "execute_result"
    },
    {
     "data": {
      "image/png": "[encoded data removed]",
      "text/plain": [
       "<Figure size 432x288 with 1 Axes>"
      ]
     },
     "metadata": {
      "needs_background": "light"
     },
     "output_type": "display_data"
    }
   ],
   "source": [
    "for i in range(int(df_.shape[-1] / 2)):\n",
    "    x = i*2\n",
    "    plt.plot(data[:, x], data[:, x+1], label=\"droplet {}\".format(i+1), alpha=0.5)\n",
    "    \n",
    "plt.legend(loc=\"upper right\")"
   ]
  },
  {
   "cell_type": "code",
   "execution_count": 28,
   "id": "a85ae7ff-b525-4b4f-acdd-82265cf3810f",
   "metadata": {
    "tags": []
   },
   "outputs": [
    {
     "name": "stdout",
     "output_type": "stream",
     "text": [
      "(649, 50, 4)\n",
      "(649, 4)\n"
     ]
    }
   ],
   "source": [
    "# 何個のデータを用いて次の時刻を予測\n",
    "time_step = 50\n",
    "n_sample = train_size - time_step - 1\n",
    "\n",
    "#シーケンシャルデータを格納する箱を用意(入力)\n",
    "input_data = np.zeros((n_sample, time_step, 4))\n",
    "#シーケンシャルデータを格納する箱を用意(正解)\n",
    "correct_input_data = np.zeros((n_sample, 4))\n",
    "\n",
    "print(input_data.shape)\n",
    "print(correct_input_data.shape)"
   ]
  },
  {
   "cell_type": "code",
   "execution_count": 29,
   "id": "e1506fb8-71e4-4d39-b8ef-7fcbe129660e",
   "metadata": {
    "tags": []
   },
   "outputs": [
    {
     "name": "stdout",
     "output_type": "stream",
     "text": [
      "n_train:519, n_val:130\n"
     ]
    }
   ],
   "source": [
    "# -----データローダ-----\n",
    "input_data = torch.tensor(input_data, dtype=torch.float) #Tensor化(入力)\n",
    "correct_data = torch.tensor(correct_input_data, dtype=torch.float) #Tensor化(正解)\n",
    "\n",
    "dataset = torch.utils.data.TensorDataset(input_data, correct_data) #データセット作成\n",
    "\n",
    "n_sample_train = len(dataset)\n",
    "n_train = int(n_sample * 0.8)\n",
    "n_val = n_sample_train - n_train\n",
    "\n",
    "print(\"n_train:{}, n_val:{}\".format(n_train, n_val))\n",
    "\n",
    "train_dataset, val_dataset = torch.utils.data.random_split(dataset,\n",
    "                                                           [n_train, n_val], \n",
    "                                                           generator=torch.Generator().manual_seed(seed))\n",
    "\n",
    "# ------データローダの再現性担保-----\n",
    "def seed_worker(worker_id):\n",
    "    worker_seed = torch.initial_seed()\n",
    "\n",
    "    # Seed other libraries with torch's seed\n",
    "    random.seed(worker_seed)\n",
    "\n",
    "    # Numpy seed must be between 0 and 2**32 - 1\n",
    "    if worker_seed >= 2 ** 32:\n",
    "        worker_seed = worker_seed % 2 ** 32\n",
    "    np.random.seed(worker_seed)\n",
    "\n",
    "g = torch.Generator()\n",
    "g.manual_seed(seed)\n",
    "# -------------------------------\n",
    "\n",
    "\n",
    "# datasetからバッチごとに取り出す\n",
    "train_loader = DataLoader(\n",
    "                            train_dataset,\n",
    "                            batch_size=4,\n",
    "                            shuffle=True,\n",
    "                            num_workers=2,\n",
    "                            worker_init_fn=seed_worker,\n",
    "                            generator=g,\n",
    "                        )\n",
    "\n",
    "val_loader = DataLoader(\n",
    "                            val_dataset,\n",
    "                            batch_size=4,\n",
    "                            shuffle=True,\n",
    "                            num_workers=2,\n",
    "                            worker_init_fn=seed_worker,\n",
    "                            generator=g,\n",
    "                        )"
   ]
  },
  {
   "cell_type": "code",
   "execution_count": 31,
   "id": "d58135ba-7d53-4d83-b20d-02296f9dc42e",
   "metadata": {
    "tags": []
   },
   "outputs": [],
   "source": [
    "class GRU(nn.Module):\n",
    "    def __init__(self, input_dim, output_dim, hidden_dim, n_layers):\n",
    "        super(GRU, self).__init__()\n",
    "        self.input_dim = input_dim\n",
    "        self.output_dim = output_dim\n",
    "        self.n_layers = n_layers\n",
    "        \n",
    "        self.gru = nn.GRU(input_dim, hidden_dim, n_layers, batch_first=True)\n",
    "        self.fc = nn.Linear(hidden_dim, output_dim)\n",
    "        \n",
    "    def forward(self, x):\n",
    "        y_gru, h = self.gru(x, None)\n",
    "        y = self.fc(y_gru[:, -1, :])\n",
    "        \n",
    "        return y"
   ]
  },
  {
   "cell_type": "markdown",
   "id": "5fac6692-fdc6-48e9-93a8-62e4864b7ae4",
   "metadata": {},
   "source": [
    "## 学習"
   ]
  },
  {
   "cell_type": "code",
   "execution_count": 41,
   "id": "a28a3e88-93d0-4a9a-a710-840bc32b2627",
   "metadata": {
    "tags": []
   },
   "outputs": [],
   "source": [
    "def train_func(net, epoch=100):\n",
    "    loss_func = nn.MSELoss(reduction=\"mean\")\n",
    "\n",
    "    optimizer = optim.Adam(net.parameters(), lr=0.001)\n",
    "\n",
    "    device = torch.device(\"cuda:0\" if torch.cuda. is_available() else \"cpu\")  #デバイス(GPU or CPU)設定 \n",
    "    \n",
    "    hist = {\"train_loss\":[], \n",
    "            \"val_loss\":[]}\n",
    "\n",
    "    epochs = 100 #エポック数\n",
    "\n",
    "    net.to(device)\n",
    "\n",
    "    es = earlystopping.EarlyStopping(patience=5, verbose=1)\n",
    "\n",
    "    for i in range(epochs):\n",
    "        net.train()\n",
    "        running_loss = 0.0\n",
    "        running_val_loss = 0.0\n",
    "\n",
    "        for j, (x, t) in enumerate(train_loader):\n",
    "            x = x.to(device)\n",
    "            optimizer.zero_grad()\n",
    "\n",
    "            y = net(x)\n",
    "            y = y.to(device)\n",
    "\n",
    "            loss = loss_func(y, t)\n",
    "            loss.backward()\n",
    "\n",
    "            optimizer.step()\n",
    "            running_loss += loss.item()\n",
    "\n",
    "        running_loss /= j + 1\n",
    "        hist[\"train_loss\"].append(running_loss)\n",
    "        \n",
    "        for j, (x, t) in enumerate(val_loader):\n",
    "            x, t = x.to(device), t.to(device)\n",
    "            \n",
    "            net.eval()\n",
    "            \n",
    "            pred = net(x)\n",
    "            loss = loss_func(pred, t)\n",
    "            running_val_loss += loss.item()\n",
    "            \n",
    "        running_val_loss /= j + 1\n",
    "        hist[\"val_loss\"].append(running_val_loss)\n",
    "\n",
    "\n",
    "        if i%5 == 0 or i==epochs-1:\n",
    "            print(\"Epoch:{}, Train_Loss:{:3f}, Val_Loss:{:3f}\".format(i, running_loss, running_val_loss))\n",
    "\n",
    "        if es(running_val_loss):\n",
    "            print(\"Epoch:{}, Train_Loss:{:3f}, Val_Loss:{:3f}\".format(i, running_loss, running_val_loss))\n",
    "            break\n",
    "    \n",
    "    #lossの推移を確認\n",
    "    plt.plot(range(len(hist[\"train_loss\"])), hist[\"train_loss\"], label='train loss')\n",
    "    plt.plot(range(len(hist[\"val_loss\"])), hist[\"val_loss\"], label='val loss')\n",
    "    \n",
    "    plt.legend()\n",
    "    plt.title(\"Change of Loss\")\n",
    "    plt.xlabel(\"epochs\")\n",
    "    plt.ylabel(\"loss\")\n",
    "    plt.show()"
   ]
  },
  {
   "cell_type": "code",
   "execution_count": 34,
   "id": "711c80b8-04d7-48f3-9d4a-d67165da8386",
   "metadata": {
    "tags": []
   },
   "outputs": [
    {
     "data": {
      "text/plain": [
       "[[None, None], [None, None], [None, None], [None, None], [None, None]]"
      ]
     },
     "execution_count": 34,
     "metadata": {},
     "output_type": "execute_result"
    }
   ],
   "source": [
    "[[None for i in range(2)] for i in range(5)]"
   ]
  },
  {
   "cell_type": "markdown",
   "id": "e2ab36b1-e20c-44f8-9073-dbf0c3b25bcc",
   "metadata": {},
   "source": [
    "## 予測用関数"
   ]
  },
  {
   "cell_type": "code",
   "execution_count": 44,
   "id": "5bcf6417-b38b-4037-a620-08fe792a3ad5",
   "metadata": {
    "tags": []
   },
   "outputs": [],
   "source": [
    "def future_prediction(net, data):\n",
    "    X = data\n",
    "    net.eval()\n",
    "\n",
    "    gen = [[None for i in range(data.shape[-1])] for i in range(train_size)] # 予測値を時系列で保持するためのリスト\n",
    "\n",
    "    z = X[train_size:train_size+time_step].reshape(-1, time_step, data.shape[-1]) # 予測用に未知の部分の最初time_step個\n",
    "\n",
    "    for i in range(test_size):\n",
    "        z_ = torch.Tensor(z[-1:, :])\n",
    "\n",
    "        preds = net(z_).data.cpu().numpy()\n",
    "        z = np.concatenate([z, preds.reshape(-1, 1, data.shape[-1])], 1)\n",
    "        z = z[:,1:,:]\n",
    "        \n",
    "        for j in range(data.shape[-1]):\n",
    "            gen.append([preds[0,j]])\n",
    "        \n",
    "    print(net)\n",
    "    \n",
    "    fig = plt.figure(figsize=(7,7))\n",
    "    \n",
    "    for i in range(int(data.shape[-1] / 2)):\n",
    "        x = i*2\n",
    "        plt.plot(data[:, x], data[:, x+1], label=\"droplet {}\".format(i+1), alpha=0.5)\n",
    "        \n",
    "    # plt.plot(X[:train_size,0], X[:train_size,1], label=\"train data\", color=\"green\")\n",
    "    # plt.plot(X[:train_size,2], X[:train_size,3], color=\"green\")\n",
    "\n",
    "    gen = np.array(gen)\n",
    "    \n",
    "    for i in range(int(data.shape[-1] / 2)):\n",
    "        x = i * 2\n",
    "        plt.plot(gen[:,x], gen[:,x+1], color=\"green\", label=\"Predict\")\n",
    "    # plt.plot(gen[:,0], gen[:,1],label='Predicted 1')\n",
    "    # plt.plot(gen[:,2], gen[:,3],label='Predicted 2')\n",
    "    plt.legend()\n",
    "\n",
    "#     plt.scatter(X[train_size+time_step,0], X[train_size+time_step,1], marker=\"x\")\n",
    "#     plt.scatter(X[train_size+time_step,2], X[train_size+time_step,3], marker=\"x\")\n",
    "    plt.title(\"hidden_dim={}\".format(net.hidden_dim))\n",
    "    \n",
    "    # plt.savefig(\"output/spiral_hidden{}.png\".format(net.hidden_dim))\n",
    "    plt.show()"
   ]
  },
  {
   "cell_type": "markdown",
   "id": "56d72ef4-244a-4188-8dcc-7d383cb976e8",
   "metadata": {},
   "source": [
    "## Define Model"
   ]
  },
  {
   "cell_type": "code",
   "execution_count": 42,
   "id": "93a3a337-0f0b-4f73-bd8a-77fd1e9fec55",
   "metadata": {
    "tags": []
   },
   "outputs": [
    {
     "data": {
      "text/plain": [
       "==========================================================================================\n",
       "Layer (type:depth-idx)                   Output Shape              Param #\n",
       "==========================================================================================\n",
       "GRU                                      [4, 4]                    --\n",
       "├─GRU: 1-1                               [4, 50, 64]               13,440\n",
       "├─Linear: 1-2                            [4, 4]                    260\n",
       "==========================================================================================\n",
       "Total params: 13,700\n",
       "Trainable params: 13,700\n",
       "Non-trainable params: 0\n",
       "Total mult-adds (M): 2.69\n",
       "==========================================================================================\n",
       "Input size (MB): 0.00\n",
       "Forward/backward pass size (MB): 0.10\n",
       "Params size (MB): 0.05\n",
       "Estimated Total Size (MB): 0.16\n",
       "=========================================================================================="
      ]
     },
     "execution_count": 42,
     "metadata": {},
     "output_type": "execute_result"
    }
   ],
   "source": [
    "input_dim = 4\n",
    "output_dim = 4\n",
    "hidden_dim = 64\n",
    "n_layers = 1\n",
    "\n",
    "net = GRU(input_dim, output_dim, hidden_dim, n_layers)\n",
    "\n",
    "batch_size = 4\n",
    "summary(net, (batch_size, time_step, 4))"
   ]
  },
  {
   "cell_type": "code",
   "execution_count": 43,
   "id": "978743fd-32e2-42ba-a63e-b6b3d56001e3",
   "metadata": {
    "tags": []
   },
   "outputs": [
    {
     "name": "stdout",
     "output_type": "stream",
     "text": [
      "Epoch:0, Train_Loss:0.000238, Val_Loss:0.000000\n",
      "Epoch:5, Train_Loss:0.000000, Val_Loss:0.000000\n",
      "early stopping\n",
      "Epoch:8, Train_Loss:0.000000, Val_Loss:0.000000\n"
     ]
    },
    {
     "data": {
      "image/png": "[encoded data removed]",
      "text/plain": [
       "<Figure size 432x288 with 1 Axes>"
      ]
     },
     "metadata": {
      "needs_background": "light"
     },
     "output_type": "display_data"
    }
   ],
   "source": [
    "train_func(net, data)"
   ]
  },
  {
   "cell_type": "code",
   "execution_count": 45,
   "id": "854b2dfe-ab01-4815-846c-274a519feb5e",
   "metadata": {
    "tags": []
   },
   "outputs": [
    {
     "ename": "RuntimeError",
     "evalue": "input.size(-1) must be equal to input_size. Expected 4, got 10",
     "output_type": "error",
     "traceback": [
      "\u001b[0;31m---------------------------------------------------------------------------\u001b[0m",
      "\u001b[0;31mRuntimeError\u001b[0m                              Traceback (most recent call last)",
      "\u001b[0;32m/tmp/ipykernel_39288/3993547509.py\u001b[0m in \u001b[0;36m<module>\u001b[0;34m\u001b[0m\n\u001b[0;32m----> 1\u001b[0;31m \u001b[0mfuture_prediction\u001b[0m\u001b[0;34m(\u001b[0m\u001b[0mnet\u001b[0m\u001b[0;34m,\u001b[0m \u001b[0mdata\u001b[0m\u001b[0;34m)\u001b[0m\u001b[0;34m\u001b[0m\u001b[0;34m\u001b[0m\u001b[0m\n\u001b[0m",
      "\u001b[0;32m/tmp/ipykernel_39288/3134205451.py\u001b[0m in \u001b[0;36mfuture_prediction\u001b[0;34m(net, data)\u001b[0m\n\u001b[1;32m     10\u001b[0m         \u001b[0mz_\u001b[0m \u001b[0;34m=\u001b[0m \u001b[0mtorch\u001b[0m\u001b[0;34m.\u001b[0m\u001b[0mTensor\u001b[0m\u001b[0;34m(\u001b[0m\u001b[0mz\u001b[0m\u001b[0;34m[\u001b[0m\u001b[0;34m-\u001b[0m\u001b[0;36m1\u001b[0m\u001b[0;34m:\u001b[0m\u001b[0;34m,\u001b[0m \u001b[0;34m:\u001b[0m\u001b[0;34m]\u001b[0m\u001b[0;34m)\u001b[0m\u001b[0;34m\u001b[0m\u001b[0;34m\u001b[0m\u001b[0m\n\u001b[1;32m     11\u001b[0m \u001b[0;34m\u001b[0m\u001b[0m\n\u001b[0;32m---> 12\u001b[0;31m         \u001b[0mpreds\u001b[0m \u001b[0;34m=\u001b[0m \u001b[0mnet\u001b[0m\u001b[0;34m(\u001b[0m\u001b[0mz_\u001b[0m\u001b[0;34m)\u001b[0m\u001b[0;34m.\u001b[0m\u001b[0mdata\u001b[0m\u001b[0;34m.\u001b[0m\u001b[0mcpu\u001b[0m\u001b[0;34m(\u001b[0m\u001b[0;34m)\u001b[0m\u001b[0;34m.\u001b[0m\u001b[0mnumpy\u001b[0m\u001b[0;34m(\u001b[0m\u001b[0;34m)\u001b[0m\u001b[0;34m\u001b[0m\u001b[0;34m\u001b[0m\u001b[0m\n\u001b[0m\u001b[1;32m     13\u001b[0m         \u001b[0mz\u001b[0m \u001b[0;34m=\u001b[0m \u001b[0mnp\u001b[0m\u001b[0;34m.\u001b[0m\u001b[0mconcatenate\u001b[0m\u001b[0;34m(\u001b[0m\u001b[0;34m[\u001b[0m\u001b[0mz\u001b[0m\u001b[0;34m,\u001b[0m \u001b[0mpreds\u001b[0m\u001b[0;34m.\u001b[0m\u001b[0mreshape\u001b[0m\u001b[0;34m(\u001b[0m\u001b[0;34m-\u001b[0m\u001b[0;36m1\u001b[0m\u001b[0;34m,\u001b[0m \u001b[0;36m1\u001b[0m\u001b[0;34m,\u001b[0m \u001b[0mdata\u001b[0m\u001b[0;34m.\u001b[0m\u001b[0mshape\u001b[0m\u001b[0;34m[\u001b[0m\u001b[0;34m-\u001b[0m\u001b[0;36m1\u001b[0m\u001b[0;34m]\u001b[0m\u001b[0;34m)\u001b[0m\u001b[0;34m]\u001b[0m\u001b[0;34m,\u001b[0m \u001b[0;36m1\u001b[0m\u001b[0;34m)\u001b[0m\u001b[0;34m\u001b[0m\u001b[0;34m\u001b[0m\u001b[0m\n\u001b[1;32m     14\u001b[0m         \u001b[0mz\u001b[0m \u001b[0;34m=\u001b[0m \u001b[0mz\u001b[0m\u001b[0;34m[\u001b[0m\u001b[0;34m:\u001b[0m\u001b[0;34m,\u001b[0m\u001b[0;36m1\u001b[0m\u001b[0;34m:\u001b[0m\u001b[0;34m,\u001b[0m\u001b[0;34m:\u001b[0m\u001b[0;34m]\u001b[0m\u001b[0;34m\u001b[0m\u001b[0;34m\u001b[0m\u001b[0m\n",
      "\u001b[0;32m~/.local/lib/python3.10/site-packages/torch/nn/modules/module.py\u001b[0m in \u001b[0;36m_call_impl\u001b[0;34m(self, *args, **kwargs)\u001b[0m\n\u001b[1;32m   1499\u001b[0m                 \u001b[0;32mor\u001b[0m \u001b[0m_global_backward_pre_hooks\u001b[0m \u001b[0;32mor\u001b[0m \u001b[0m_global_backward_hooks\u001b[0m\u001b[0;34m\u001b[0m\u001b[0;34m\u001b[0m\u001b[0m\n\u001b[1;32m   1500\u001b[0m                 or _global_forward_hooks or _global_forward_pre_hooks):\n\u001b[0;32m-> 1501\u001b[0;31m             \u001b[0;32mreturn\u001b[0m \u001b[0mforward_call\u001b[0m\u001b[0;34m(\u001b[0m\u001b[0;34m*\u001b[0m\u001b[0margs\u001b[0m\u001b[0;34m,\u001b[0m \u001b[0;34m**\u001b[0m\u001b[0mkwargs\u001b[0m\u001b[0;34m)\u001b[0m\u001b[0;34m\u001b[0m\u001b[0;34m\u001b[0m\u001b[0m\n\u001b[0m\u001b[1;32m   1502\u001b[0m         \u001b[0;31m# Do not call functions when jit is used\u001b[0m\u001b[0;34m\u001b[0m\u001b[0;34m\u001b[0m\u001b[0m\n\u001b[1;32m   1503\u001b[0m         \u001b[0mfull_backward_hooks\u001b[0m\u001b[0;34m,\u001b[0m \u001b[0mnon_full_backward_hooks\u001b[0m \u001b[0;34m=\u001b[0m \u001b[0;34m[\u001b[0m\u001b[0;34m]\u001b[0m\u001b[0;34m,\u001b[0m \u001b[0;34m[\u001b[0m\u001b[0;34m]\u001b[0m\u001b[0;34m\u001b[0m\u001b[0;34m\u001b[0m\u001b[0m\n",
      "\u001b[0;32m/tmp/ipykernel_39288/1014657011.py\u001b[0m in \u001b[0;36mforward\u001b[0;34m(self, x)\u001b[0m\n\u001b[1;32m     10\u001b[0m \u001b[0;34m\u001b[0m\u001b[0m\n\u001b[1;32m     11\u001b[0m     \u001b[0;32mdef\u001b[0m \u001b[0mforward\u001b[0m\u001b[0;34m(\u001b[0m\u001b[0mself\u001b[0m\u001b[0;34m,\u001b[0m \u001b[0mx\u001b[0m\u001b[0;34m)\u001b[0m\u001b[0;34m:\u001b[0m\u001b[0;34m\u001b[0m\u001b[0;34m\u001b[0m\u001b[0m\n\u001b[0;32m---> 12\u001b[0;31m         \u001b[0my_gru\u001b[0m\u001b[0;34m,\u001b[0m \u001b[0mh\u001b[0m \u001b[0;34m=\u001b[0m \u001b[0mself\u001b[0m\u001b[0;34m.\u001b[0m\u001b[0mgru\u001b[0m\u001b[0;34m(\u001b[0m\u001b[0mx\u001b[0m\u001b[0;34m,\u001b[0m \u001b[0;32mNone\u001b[0m\u001b[0;34m)\u001b[0m\u001b[0;34m\u001b[0m\u001b[0;34m\u001b[0m\u001b[0m\n\u001b[0m\u001b[1;32m     13\u001b[0m         \u001b[0my\u001b[0m \u001b[0;34m=\u001b[0m \u001b[0mself\u001b[0m\u001b[0;34m.\u001b[0m\u001b[0mfc\u001b[0m\u001b[0;34m(\u001b[0m\u001b[0my_gru\u001b[0m\u001b[0;34m[\u001b[0m\u001b[0;34m:\u001b[0m\u001b[0;34m,\u001b[0m \u001b[0;34m-\u001b[0m\u001b[0;36m1\u001b[0m\u001b[0;34m,\u001b[0m \u001b[0;34m:\u001b[0m\u001b[0;34m]\u001b[0m\u001b[0;34m)\u001b[0m\u001b[0;34m\u001b[0m\u001b[0;34m\u001b[0m\u001b[0m\n\u001b[1;32m     14\u001b[0m \u001b[0;34m\u001b[0m\u001b[0m\n",
      "\u001b[0;32m~/.local/lib/python3.10/site-packages/torch/nn/modules/module.py\u001b[0m in \u001b[0;36m_call_impl\u001b[0;34m(self, *args, **kwargs)\u001b[0m\n\u001b[1;32m   1499\u001b[0m                 \u001b[0;32mor\u001b[0m \u001b[0m_global_backward_pre_hooks\u001b[0m \u001b[0;32mor\u001b[0m \u001b[0m_global_backward_hooks\u001b[0m\u001b[0;34m\u001b[0m\u001b[0;34m\u001b[0m\u001b[0m\n\u001b[1;32m   1500\u001b[0m                 or _global_forward_hooks or _global_forward_pre_hooks):\n\u001b[0;32m-> 1501\u001b[0;31m             \u001b[0;32mreturn\u001b[0m \u001b[0mforward_call\u001b[0m\u001b[0;34m(\u001b[0m\u001b[0;34m*\u001b[0m\u001b[0margs\u001b[0m\u001b[0;34m,\u001b[0m \u001b[0;34m**\u001b[0m\u001b[0mkwargs\u001b[0m\u001b[0;34m)\u001b[0m\u001b[0;34m\u001b[0m\u001b[0;34m\u001b[0m\u001b[0m\n\u001b[0m\u001b[1;32m   1502\u001b[0m         \u001b[0;31m# Do not call functions when jit is used\u001b[0m\u001b[0;34m\u001b[0m\u001b[0;34m\u001b[0m\u001b[0m\n\u001b[1;32m   1503\u001b[0m         \u001b[0mfull_backward_hooks\u001b[0m\u001b[0;34m,\u001b[0m \u001b[0mnon_full_backward_hooks\u001b[0m \u001b[0;34m=\u001b[0m \u001b[0;34m[\u001b[0m\u001b[0;34m]\u001b[0m\u001b[0;34m,\u001b[0m \u001b[0;34m[\u001b[0m\u001b[0;34m]\u001b[0m\u001b[0;34m\u001b[0m\u001b[0;34m\u001b[0m\u001b[0m\n",
      "\u001b[0;32m~/.local/lib/python3.10/site-packages/torch/nn/modules/rnn.py\u001b[0m in \u001b[0;36mforward\u001b[0;34m(self, input, hx)\u001b[0m\n\u001b[1;32m    994\u001b[0m             \u001b[0mhx\u001b[0m \u001b[0;34m=\u001b[0m \u001b[0mself\u001b[0m\u001b[0;34m.\u001b[0m\u001b[0mpermute_hidden\u001b[0m\u001b[0;34m(\u001b[0m\u001b[0mhx\u001b[0m\u001b[0;34m,\u001b[0m \u001b[0msorted_indices\u001b[0m\u001b[0;34m)\u001b[0m\u001b[0;34m\u001b[0m\u001b[0;34m\u001b[0m\u001b[0m\n\u001b[1;32m    995\u001b[0m \u001b[0;34m\u001b[0m\u001b[0m\n\u001b[0;32m--> 996\u001b[0;31m         \u001b[0mself\u001b[0m\u001b[0;34m.\u001b[0m\u001b[0mcheck_forward_args\u001b[0m\u001b[0;34m(\u001b[0m\u001b[0minput\u001b[0m\u001b[0;34m,\u001b[0m \u001b[0mhx\u001b[0m\u001b[0;34m,\u001b[0m \u001b[0mbatch_sizes\u001b[0m\u001b[0;34m)\u001b[0m\u001b[0;34m\u001b[0m\u001b[0;34m\u001b[0m\u001b[0m\n\u001b[0m\u001b[1;32m    997\u001b[0m         \u001b[0;32mif\u001b[0m \u001b[0mbatch_sizes\u001b[0m \u001b[0;32mis\u001b[0m \u001b[0;32mNone\u001b[0m\u001b[0;34m:\u001b[0m\u001b[0;34m\u001b[0m\u001b[0;34m\u001b[0m\u001b[0m\n\u001b[1;32m    998\u001b[0m             result = _VF.gru(input, hx, self._flat_weights, self.bias, self.num_layers,\n",
      "\u001b[0;32m~/.local/lib/python3.10/site-packages/torch/nn/modules/rnn.py\u001b[0m in \u001b[0;36mcheck_forward_args\u001b[0;34m(self, input, hidden, batch_sizes)\u001b[0m\n\u001b[1;32m    251\u001b[0m \u001b[0;34m\u001b[0m\u001b[0m\n\u001b[1;32m    252\u001b[0m     \u001b[0;32mdef\u001b[0m \u001b[0mcheck_forward_args\u001b[0m\u001b[0;34m(\u001b[0m\u001b[0mself\u001b[0m\u001b[0;34m,\u001b[0m \u001b[0minput\u001b[0m\u001b[0;34m:\u001b[0m \u001b[0mTensor\u001b[0m\u001b[0;34m,\u001b[0m \u001b[0mhidden\u001b[0m\u001b[0;34m:\u001b[0m \u001b[0mTensor\u001b[0m\u001b[0;34m,\u001b[0m \u001b[0mbatch_sizes\u001b[0m\u001b[0;34m:\u001b[0m \u001b[0mOptional\u001b[0m\u001b[0;34m[\u001b[0m\u001b[0mTensor\u001b[0m\u001b[0;34m]\u001b[0m\u001b[0;34m)\u001b[0m\u001b[0;34m:\u001b[0m\u001b[0;34m\u001b[0m\u001b[0;34m\u001b[0m\u001b[0m\n\u001b[0;32m--> 253\u001b[0;31m         \u001b[0mself\u001b[0m\u001b[0;34m.\u001b[0m\u001b[0mcheck_input\u001b[0m\u001b[0;34m(\u001b[0m\u001b[0minput\u001b[0m\u001b[0;34m,\u001b[0m \u001b[0mbatch_sizes\u001b[0m\u001b[0;34m)\u001b[0m\u001b[0;34m\u001b[0m\u001b[0;34m\u001b[0m\u001b[0m\n\u001b[0m\u001b[1;32m    254\u001b[0m         \u001b[0mexpected_hidden_size\u001b[0m \u001b[0;34m=\u001b[0m \u001b[0mself\u001b[0m\u001b[0;34m.\u001b[0m\u001b[0mget_expected_hidden_size\u001b[0m\u001b[0;34m(\u001b[0m\u001b[0minput\u001b[0m\u001b[0;34m,\u001b[0m \u001b[0mbatch_sizes\u001b[0m\u001b[0;34m)\u001b[0m\u001b[0;34m\u001b[0m\u001b[0;34m\u001b[0m\u001b[0m\n\u001b[1;32m    255\u001b[0m \u001b[0;34m\u001b[0m\u001b[0m\n",
      "\u001b[0;32m~/.local/lib/python3.10/site-packages/torch/nn/modules/rnn.py\u001b[0m in \u001b[0;36mcheck_input\u001b[0;34m(self, input, batch_sizes)\u001b[0m\n\u001b[1;32m    216\u001b[0m                     expected_input_dim, input.dim()))\n\u001b[1;32m    217\u001b[0m         \u001b[0;32mif\u001b[0m \u001b[0mself\u001b[0m\u001b[0;34m.\u001b[0m\u001b[0minput_size\u001b[0m \u001b[0;34m!=\u001b[0m \u001b[0minput\u001b[0m\u001b[0;34m.\u001b[0m\u001b[0msize\u001b[0m\u001b[0;34m(\u001b[0m\u001b[0;34m-\u001b[0m\u001b[0;36m1\u001b[0m\u001b[0;34m)\u001b[0m\u001b[0;34m:\u001b[0m\u001b[0;34m\u001b[0m\u001b[0;34m\u001b[0m\u001b[0m\n\u001b[0;32m--> 218\u001b[0;31m             raise RuntimeError(\n\u001b[0m\u001b[1;32m    219\u001b[0m                 'input.size(-1) must be equal to input_size. Expected {}, got {}'.format(\n\u001b[1;32m    220\u001b[0m                     self.input_size, input.size(-1)))\n",
      "\u001b[0;31mRuntimeError\u001b[0m: input.size(-1) must be equal to input_size. Expected 4, got 10"
     ]
    }
   ],
   "source": [
    "future_prediction(net, data)"
   ]
  },
  {
   "cell_type": "code",
   "execution_count": null,
   "id": "5e62bc95-5712-4a91-b85a-44b436ce65b7",
   "metadata": {},
   "outputs": [],
   "source": []
  }
 ],
 "metadata": {
  "kernelspec": {
   "display_name": "Python 3 (ipykernel)",
   "language": "python",
   "name": "python3"
  },
  "language_info": {
   "codemirror_mode": {
    "name": "ipython",
    "version": 3
   },
   "file_extension": ".py",
   "mimetype": "text/x-python",
   "name": "python",
   "nbconvert_exporter": "python",
   "pygments_lexer": "ipython3",
   "version": "3.10.12"
  }
 },
 "nbformat": 4,
 "nbformat_minor": 5
}
